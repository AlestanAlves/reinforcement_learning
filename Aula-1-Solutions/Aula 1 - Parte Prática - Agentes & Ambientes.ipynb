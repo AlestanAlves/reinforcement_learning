{
 "cells": [
  {
   "cell_type": "markdown",
   "metadata": {},
   "source": [
    "# Aula 1 - Parte Prática - Agentes & Ambientes"
   ]
  },
  {
   "cell_type": "markdown",
   "metadata": {},
   "source": [
    "## Introdução\n",
    "\n",
    "Nesse primeiro notebook iremos aprender sobre a API do [OpenAI Gym](http://gym.openai.com/) e começaremos a implementar alguns componentes de um agente de RL.\n",
    "Ao final dessa parte prática teremos implementado o **ciclo de interação Agente-Ambiente** que nos permitirá futuramente treinar o agente e avaliar sua performance.\n",
    "\n",
    "<img src=\"img/agent-env-loop.png\" alt=\"Agent-Env Loop\" style=\"width: 450px;\"/>\n",
    "\n",
    "\n",
    "### Objetivos:\n",
    "\n",
    "- Relacionar os conceitos de Processos de Decisão Markovianos (MDPs) com os atributos e métodos de um ambiente definido com o OpenAI Gym;\n",
    "- Familiarizar-se com os componentes básicos de um agente de RL;\n",
    "- Implementar o ciclo de interação Agente-Ambiente; e\n",
    "- Implementar um primeiro agente aleatório e avaliar sua performance"
   ]
  },
  {
   "cell_type": "markdown",
   "metadata": {},
   "source": [
    "### Imports\n",
    "\n",
    "> **Atenção:** não se esqueça de executar todos os `imports` necessários antes prosseguir com o tutorial. "
   ]
  },
  {
   "cell_type": "code",
   "execution_count": 1,
   "metadata": {},
   "outputs": [
    {
     "data": {
      "text/html": [
       "\n",
       "    <div class=\"bk-root\">\n",
       "        <a href=\"https://bokeh.org\" target=\"_blank\" class=\"bk-logo bk-logo-small bk-logo-notebook\"></a>\n",
       "        <span id=\"1001\">Loading BokehJS ...</span>\n",
       "    </div>"
      ]
     },
     "metadata": {},
     "output_type": "display_data"
    },
    {
     "data": {
      "application/javascript": [
       "\n",
       "(function(root) {\n",
       "  function now() {\n",
       "    return new Date();\n",
       "  }\n",
       "\n",
       "  var force = true;\n",
       "\n",
       "  if (typeof root._bokeh_onload_callbacks === \"undefined\" || force === true) {\n",
       "    root._bokeh_onload_callbacks = [];\n",
       "    root._bokeh_is_loading = undefined;\n",
       "  }\n",
       "\n",
       "  var JS_MIME_TYPE = 'application/javascript';\n",
       "  var HTML_MIME_TYPE = 'text/html';\n",
       "  var EXEC_MIME_TYPE = 'application/vnd.bokehjs_exec.v0+json';\n",
       "  var CLASS_NAME = 'output_bokeh rendered_html';\n",
       "\n",
       "  /**\n",
       "   * Render data to the DOM node\n",
       "   */\n",
       "  function render(props, node) {\n",
       "    var script = document.createElement(\"script\");\n",
       "    node.appendChild(script);\n",
       "  }\n",
       "\n",
       "  /**\n",
       "   * Handle when an output is cleared or removed\n",
       "   */\n",
       "  function handleClearOutput(event, handle) {\n",
       "    var cell = handle.cell;\n",
       "\n",
       "    var id = cell.output_area._bokeh_element_id;\n",
       "    var server_id = cell.output_area._bokeh_server_id;\n",
       "    // Clean up Bokeh references\n",
       "    if (id != null && id in Bokeh.index) {\n",
       "      Bokeh.index[id].model.document.clear();\n",
       "      delete Bokeh.index[id];\n",
       "    }\n",
       "\n",
       "    if (server_id !== undefined) {\n",
       "      // Clean up Bokeh references\n",
       "      var cmd = \"from bokeh.io.state import curstate; print(curstate().uuid_to_server['\" + server_id + \"'].get_sessions()[0].document.roots[0]._id)\";\n",
       "      cell.notebook.kernel.execute(cmd, {\n",
       "        iopub: {\n",
       "          output: function(msg) {\n",
       "            var id = msg.content.text.trim();\n",
       "            if (id in Bokeh.index) {\n",
       "              Bokeh.index[id].model.document.clear();\n",
       "              delete Bokeh.index[id];\n",
       "            }\n",
       "          }\n",
       "        }\n",
       "      });\n",
       "      // Destroy server and session\n",
       "      var cmd = \"import bokeh.io.notebook as ion; ion.destroy_server('\" + server_id + \"')\";\n",
       "      cell.notebook.kernel.execute(cmd);\n",
       "    }\n",
       "  }\n",
       "\n",
       "  /**\n",
       "   * Handle when a new output is added\n",
       "   */\n",
       "  function handleAddOutput(event, handle) {\n",
       "    var output_area = handle.output_area;\n",
       "    var output = handle.output;\n",
       "\n",
       "    // limit handleAddOutput to display_data with EXEC_MIME_TYPE content only\n",
       "    if ((output.output_type != \"display_data\") || (!output.data.hasOwnProperty(EXEC_MIME_TYPE))) {\n",
       "      return\n",
       "    }\n",
       "\n",
       "    var toinsert = output_area.element.find(\".\" + CLASS_NAME.split(' ')[0]);\n",
       "\n",
       "    if (output.metadata[EXEC_MIME_TYPE][\"id\"] !== undefined) {\n",
       "      toinsert[toinsert.length - 1].firstChild.textContent = output.data[JS_MIME_TYPE];\n",
       "      // store reference to embed id on output_area\n",
       "      output_area._bokeh_element_id = output.metadata[EXEC_MIME_TYPE][\"id\"];\n",
       "    }\n",
       "    if (output.metadata[EXEC_MIME_TYPE][\"server_id\"] !== undefined) {\n",
       "      var bk_div = document.createElement(\"div\");\n",
       "      bk_div.innerHTML = output.data[HTML_MIME_TYPE];\n",
       "      var script_attrs = bk_div.children[0].attributes;\n",
       "      for (var i = 0; i < script_attrs.length; i++) {\n",
       "        toinsert[toinsert.length - 1].firstChild.setAttribute(script_attrs[i].name, script_attrs[i].value);\n",
       "      }\n",
       "      // store reference to server id on output_area\n",
       "      output_area._bokeh_server_id = output.metadata[EXEC_MIME_TYPE][\"server_id\"];\n",
       "    }\n",
       "  }\n",
       "\n",
       "  function register_renderer(events, OutputArea) {\n",
       "\n",
       "    function append_mime(data, metadata, element) {\n",
       "      // create a DOM node to render to\n",
       "      var toinsert = this.create_output_subarea(\n",
       "        metadata,\n",
       "        CLASS_NAME,\n",
       "        EXEC_MIME_TYPE\n",
       "      );\n",
       "      this.keyboard_manager.register_events(toinsert);\n",
       "      // Render to node\n",
       "      var props = {data: data, metadata: metadata[EXEC_MIME_TYPE]};\n",
       "      render(props, toinsert[toinsert.length - 1]);\n",
       "      element.append(toinsert);\n",
       "      return toinsert\n",
       "    }\n",
       "\n",
       "    /* Handle when an output is cleared or removed */\n",
       "    events.on('clear_output.CodeCell', handleClearOutput);\n",
       "    events.on('delete.Cell', handleClearOutput);\n",
       "\n",
       "    /* Handle when a new output is added */\n",
       "    events.on('output_added.OutputArea', handleAddOutput);\n",
       "\n",
       "    /**\n",
       "     * Register the mime type and append_mime function with output_area\n",
       "     */\n",
       "    OutputArea.prototype.register_mime_type(EXEC_MIME_TYPE, append_mime, {\n",
       "      /* Is output safe? */\n",
       "      safe: true,\n",
       "      /* Index of renderer in `output_area.display_order` */\n",
       "      index: 0\n",
       "    });\n",
       "  }\n",
       "\n",
       "  // register the mime type if in Jupyter Notebook environment and previously unregistered\n",
       "  if (root.Jupyter !== undefined) {\n",
       "    var events = require('base/js/events');\n",
       "    var OutputArea = require('notebook/js/outputarea').OutputArea;\n",
       "\n",
       "    if (OutputArea.prototype.mime_types().indexOf(EXEC_MIME_TYPE) == -1) {\n",
       "      register_renderer(events, OutputArea);\n",
       "    }\n",
       "  }\n",
       "\n",
       "  \n",
       "  if (typeof (root._bokeh_timeout) === \"undefined\" || force === true) {\n",
       "    root._bokeh_timeout = Date.now() + 5000;\n",
       "    root._bokeh_failed_load = false;\n",
       "  }\n",
       "\n",
       "  var NB_LOAD_WARNING = {'data': {'text/html':\n",
       "     \"<div style='background-color: #fdd'>\\n\"+\n",
       "     \"<p>\\n\"+\n",
       "     \"BokehJS does not appear to have successfully loaded. If loading BokehJS from CDN, this \\n\"+\n",
       "     \"may be due to a slow or bad network connection. Possible fixes:\\n\"+\n",
       "     \"</p>\\n\"+\n",
       "     \"<ul>\\n\"+\n",
       "     \"<li>re-rerun `output_notebook()` to attempt to load from CDN again, or</li>\\n\"+\n",
       "     \"<li>use INLINE resources instead, as so:</li>\\n\"+\n",
       "     \"</ul>\\n\"+\n",
       "     \"<code>\\n\"+\n",
       "     \"from bokeh.resources import INLINE\\n\"+\n",
       "     \"output_notebook(resources=INLINE)\\n\"+\n",
       "     \"</code>\\n\"+\n",
       "     \"</div>\"}};\n",
       "\n",
       "  function display_loaded() {\n",
       "    var el = document.getElementById(\"1001\");\n",
       "    if (el != null) {\n",
       "      el.textContent = \"BokehJS is loading...\";\n",
       "    }\n",
       "    if (root.Bokeh !== undefined) {\n",
       "      if (el != null) {\n",
       "        el.textContent = \"BokehJS \" + root.Bokeh.version + \" successfully loaded.\";\n",
       "      }\n",
       "    } else if (Date.now() < root._bokeh_timeout) {\n",
       "      setTimeout(display_loaded, 100)\n",
       "    }\n",
       "  }\n",
       "\n",
       "\n",
       "  function run_callbacks() {\n",
       "    try {\n",
       "      root._bokeh_onload_callbacks.forEach(function(callback) {\n",
       "        if (callback != null)\n",
       "          callback();\n",
       "      });\n",
       "    } finally {\n",
       "      delete root._bokeh_onload_callbacks\n",
       "    }\n",
       "    console.debug(\"Bokeh: all callbacks have finished\");\n",
       "  }\n",
       "\n",
       "  function load_libs(css_urls, js_urls, callback) {\n",
       "    if (css_urls == null) css_urls = [];\n",
       "    if (js_urls == null) js_urls = [];\n",
       "\n",
       "    root._bokeh_onload_callbacks.push(callback);\n",
       "    if (root._bokeh_is_loading > 0) {\n",
       "      console.debug(\"Bokeh: BokehJS is being loaded, scheduling callback at\", now());\n",
       "      return null;\n",
       "    }\n",
       "    if (js_urls == null || js_urls.length === 0) {\n",
       "      run_callbacks();\n",
       "      return null;\n",
       "    }\n",
       "    console.debug(\"Bokeh: BokehJS not loaded, scheduling load and callback at\", now());\n",
       "    root._bokeh_is_loading = css_urls.length + js_urls.length;\n",
       "\n",
       "    function on_load() {\n",
       "      root._bokeh_is_loading--;\n",
       "      if (root._bokeh_is_loading === 0) {\n",
       "        console.debug(\"Bokeh: all BokehJS libraries/stylesheets loaded\");\n",
       "        run_callbacks()\n",
       "      }\n",
       "    }\n",
       "\n",
       "    function on_error() {\n",
       "      console.error(\"failed to load \" + url);\n",
       "    }\n",
       "\n",
       "    for (var i = 0; i < css_urls.length; i++) {\n",
       "      var url = css_urls[i];\n",
       "      const element = document.createElement(\"link\");\n",
       "      element.onload = on_load;\n",
       "      element.onerror = on_error;\n",
       "      element.rel = \"stylesheet\";\n",
       "      element.type = \"text/css\";\n",
       "      element.href = url;\n",
       "      console.debug(\"Bokeh: injecting link tag for BokehJS stylesheet: \", url);\n",
       "      document.body.appendChild(element);\n",
       "    }\n",
       "\n",
       "    for (var i = 0; i < js_urls.length; i++) {\n",
       "      var url = js_urls[i];\n",
       "      var element = document.createElement('script');\n",
       "      element.onload = on_load;\n",
       "      element.onerror = on_error;\n",
       "      element.async = false;\n",
       "      element.src = url;\n",
       "      console.debug(\"Bokeh: injecting script tag for BokehJS library: \", url);\n",
       "      document.head.appendChild(element);\n",
       "    }\n",
       "  };var element = document.getElementById(\"1001\");\n",
       "  if (element == null) {\n",
       "    console.error(\"Bokeh: ERROR: autoload.js configured with elementid '1001' but no matching script tag was found. \")\n",
       "    return false;\n",
       "  }\n",
       "\n",
       "  function inject_raw_css(css) {\n",
       "    const element = document.createElement(\"style\");\n",
       "    element.appendChild(document.createTextNode(css));\n",
       "    document.body.appendChild(element);\n",
       "  }\n",
       "\n",
       "  \n",
       "  var js_urls = [\"https://cdn.pydata.org/bokeh/release/bokeh-1.4.0.min.js\", \"https://cdn.pydata.org/bokeh/release/bokeh-widgets-1.4.0.min.js\", \"https://cdn.pydata.org/bokeh/release/bokeh-tables-1.4.0.min.js\", \"https://cdn.pydata.org/bokeh/release/bokeh-gl-1.4.0.min.js\"];\n",
       "  var css_urls = [];\n",
       "  \n",
       "\n",
       "  var inline_js = [\n",
       "    function(Bokeh) {\n",
       "      Bokeh.set_log_level(\"info\");\n",
       "    },\n",
       "    function(Bokeh) {\n",
       "    \n",
       "    \n",
       "    }\n",
       "  ];\n",
       "\n",
       "  function run_inline_js() {\n",
       "    \n",
       "    if (root.Bokeh !== undefined || force === true) {\n",
       "      \n",
       "    for (var i = 0; i < inline_js.length; i++) {\n",
       "      inline_js[i].call(root, root.Bokeh);\n",
       "    }\n",
       "    if (force === true) {\n",
       "        display_loaded();\n",
       "      }} else if (Date.now() < root._bokeh_timeout) {\n",
       "      setTimeout(run_inline_js, 100);\n",
       "    } else if (!root._bokeh_failed_load) {\n",
       "      console.log(\"Bokeh: BokehJS failed to load within specified timeout.\");\n",
       "      root._bokeh_failed_load = true;\n",
       "    } else if (force !== true) {\n",
       "      var cell = $(document.getElementById(\"1001\")).parents('.cell').data().cell;\n",
       "      cell.output_area.append_execute_result(NB_LOAD_WARNING)\n",
       "    }\n",
       "\n",
       "  }\n",
       "\n",
       "  if (root._bokeh_is_loading === 0) {\n",
       "    console.debug(\"Bokeh: BokehJS loaded, going straight to plotting\");\n",
       "    run_inline_js();\n",
       "  } else {\n",
       "    load_libs(css_urls, js_urls, function() {\n",
       "      console.debug(\"Bokeh: BokehJS plotting callback run at\", now());\n",
       "      run_inline_js();\n",
       "    });\n",
       "  }\n",
       "}(window));"
      ],
      "application/vnd.bokehjs_load.v0+json": "\n(function(root) {\n  function now() {\n    return new Date();\n  }\n\n  var force = true;\n\n  if (typeof root._bokeh_onload_callbacks === \"undefined\" || force === true) {\n    root._bokeh_onload_callbacks = [];\n    root._bokeh_is_loading = undefined;\n  }\n\n  \n\n  \n  if (typeof (root._bokeh_timeout) === \"undefined\" || force === true) {\n    root._bokeh_timeout = Date.now() + 5000;\n    root._bokeh_failed_load = false;\n  }\n\n  var NB_LOAD_WARNING = {'data': {'text/html':\n     \"<div style='background-color: #fdd'>\\n\"+\n     \"<p>\\n\"+\n     \"BokehJS does not appear to have successfully loaded. If loading BokehJS from CDN, this \\n\"+\n     \"may be due to a slow or bad network connection. Possible fixes:\\n\"+\n     \"</p>\\n\"+\n     \"<ul>\\n\"+\n     \"<li>re-rerun `output_notebook()` to attempt to load from CDN again, or</li>\\n\"+\n     \"<li>use INLINE resources instead, as so:</li>\\n\"+\n     \"</ul>\\n\"+\n     \"<code>\\n\"+\n     \"from bokeh.resources import INLINE\\n\"+\n     \"output_notebook(resources=INLINE)\\n\"+\n     \"</code>\\n\"+\n     \"</div>\"}};\n\n  function display_loaded() {\n    var el = document.getElementById(\"1001\");\n    if (el != null) {\n      el.textContent = \"BokehJS is loading...\";\n    }\n    if (root.Bokeh !== undefined) {\n      if (el != null) {\n        el.textContent = \"BokehJS \" + root.Bokeh.version + \" successfully loaded.\";\n      }\n    } else if (Date.now() < root._bokeh_timeout) {\n      setTimeout(display_loaded, 100)\n    }\n  }\n\n\n  function run_callbacks() {\n    try {\n      root._bokeh_onload_callbacks.forEach(function(callback) {\n        if (callback != null)\n          callback();\n      });\n    } finally {\n      delete root._bokeh_onload_callbacks\n    }\n    console.debug(\"Bokeh: all callbacks have finished\");\n  }\n\n  function load_libs(css_urls, js_urls, callback) {\n    if (css_urls == null) css_urls = [];\n    if (js_urls == null) js_urls = [];\n\n    root._bokeh_onload_callbacks.push(callback);\n    if (root._bokeh_is_loading > 0) {\n      console.debug(\"Bokeh: BokehJS is being loaded, scheduling callback at\", now());\n      return null;\n    }\n    if (js_urls == null || js_urls.length === 0) {\n      run_callbacks();\n      return null;\n    }\n    console.debug(\"Bokeh: BokehJS not loaded, scheduling load and callback at\", now());\n    root._bokeh_is_loading = css_urls.length + js_urls.length;\n\n    function on_load() {\n      root._bokeh_is_loading--;\n      if (root._bokeh_is_loading === 0) {\n        console.debug(\"Bokeh: all BokehJS libraries/stylesheets loaded\");\n        run_callbacks()\n      }\n    }\n\n    function on_error() {\n      console.error(\"failed to load \" + url);\n    }\n\n    for (var i = 0; i < css_urls.length; i++) {\n      var url = css_urls[i];\n      const element = document.createElement(\"link\");\n      element.onload = on_load;\n      element.onerror = on_error;\n      element.rel = \"stylesheet\";\n      element.type = \"text/css\";\n      element.href = url;\n      console.debug(\"Bokeh: injecting link tag for BokehJS stylesheet: \", url);\n      document.body.appendChild(element);\n    }\n\n    for (var i = 0; i < js_urls.length; i++) {\n      var url = js_urls[i];\n      var element = document.createElement('script');\n      element.onload = on_load;\n      element.onerror = on_error;\n      element.async = false;\n      element.src = url;\n      console.debug(\"Bokeh: injecting script tag for BokehJS library: \", url);\n      document.head.appendChild(element);\n    }\n  };var element = document.getElementById(\"1001\");\n  if (element == null) {\n    console.error(\"Bokeh: ERROR: autoload.js configured with elementid '1001' but no matching script tag was found. \")\n    return false;\n  }\n\n  function inject_raw_css(css) {\n    const element = document.createElement(\"style\");\n    element.appendChild(document.createTextNode(css));\n    document.body.appendChild(element);\n  }\n\n  \n  var js_urls = [\"https://cdn.pydata.org/bokeh/release/bokeh-1.4.0.min.js\", \"https://cdn.pydata.org/bokeh/release/bokeh-widgets-1.4.0.min.js\", \"https://cdn.pydata.org/bokeh/release/bokeh-tables-1.4.0.min.js\", \"https://cdn.pydata.org/bokeh/release/bokeh-gl-1.4.0.min.js\"];\n  var css_urls = [];\n  \n\n  var inline_js = [\n    function(Bokeh) {\n      Bokeh.set_log_level(\"info\");\n    },\n    function(Bokeh) {\n    \n    \n    }\n  ];\n\n  function run_inline_js() {\n    \n    if (root.Bokeh !== undefined || force === true) {\n      \n    for (var i = 0; i < inline_js.length; i++) {\n      inline_js[i].call(root, root.Bokeh);\n    }\n    if (force === true) {\n        display_loaded();\n      }} else if (Date.now() < root._bokeh_timeout) {\n      setTimeout(run_inline_js, 100);\n    } else if (!root._bokeh_failed_load) {\n      console.log(\"Bokeh: BokehJS failed to load within specified timeout.\");\n      root._bokeh_failed_load = true;\n    } else if (force !== true) {\n      var cell = $(document.getElementById(\"1001\")).parents('.cell').data().cell;\n      cell.output_area.append_execute_result(NB_LOAD_WARNING)\n    }\n\n  }\n\n  if (root._bokeh_is_loading === 0) {\n    console.debug(\"Bokeh: BokehJS loaded, going straight to plotting\");\n    run_inline_js();\n  } else {\n    load_libs(css_urls, js_urls, function() {\n      console.debug(\"Bokeh: BokehJS plotting callback run at\", now());\n      run_inline_js();\n    });\n  }\n}(window));"
     },
     "metadata": {},
     "output_type": "display_data"
    }
   ],
   "source": [
    "import abc\n",
    "import random\n",
    "\n",
    "import gym\n",
    "\n",
    "from utils.viz import plot_action_distribution, plot_episode_total_rewards"
   ]
  },
  {
   "cell_type": "markdown",
   "metadata": {},
   "source": [
    "## 1. Ambientes no OpenAI Gym\n",
    "\n",
    "Um ambiente no OpenAI Gym encapsula um simulador com o qual um agente pode interagir. Nesse simulador, a cada instante $t$ o agente deve escolhar uma ação $\\mathbf{a}_t \\in \\mathcal{A}$ a ser executada. Ao receber essa ação, o ambiente tem seu estado $\\mathbf{s}_t \\in \\mathcal{S}$ alterado para outro estado $\\mathbf{s}_{t+1} \\in \\mathcal{S}$ e devolve para o agente uma observação (que pode ou não corresponder ao estado) e uma recompensa/punição $r_{t+1} \\in \\mathbb{R}$.\n",
    "\n",
    "O pacote Gym conta com inúmeros [ambientes pré-programados](http://gym.openai.com/envs/) e prontos para serem usados para testar algoritmos de RL. Nessa parte prática, começaremos a explorar alguns ambientes mais simples a fim de nos familiarizarmos com os principais conceitos de modelagem da biblioteca Gym."
   ]
  },
  {
   "cell_type": "markdown",
   "metadata": {},
   "source": [
    "Para carregar um ambiente disponível no Gym basta chamar a função `gym.make` passando como argumento o identificador do ambiente:"
   ]
  },
  {
   "cell_type": "code",
   "execution_count": 2,
   "metadata": {},
   "outputs": [
    {
     "name": "stderr",
     "output_type": "stream",
     "text": [
      "/home/alestan/miniconda3/envs/rlsummer/lib/python3.6/site-packages/gym/logger.py:30: UserWarning: \u001b[33mWARN: Box bound precision lowered by casting to float32\u001b[0m\n",
      "  warnings.warn(colorize('%s: %s'%('WARN', msg % args), 'yellow'))\n"
     ]
    }
   ],
   "source": [
    "env = gym.make(\"MountainCar-v0\")"
   ]
  },
  {
   "cell_type": "markdown",
   "metadata": {},
   "source": [
    "> **Atenção**: antes de usar um ambiente do Gym com o qual você não está familiarizado pode ser útil ler a sua documentação online.\n",
    "> Para o `MountainCar-v0` acesse o link [http://gym.openai.com/envs/MountainCar-v0/](http://gym.openai.com/envs/MountainCar-v0/)."
   ]
  },
  {
   "cell_type": "markdown",
   "metadata": {},
   "source": [
    "Informações adicionais sobre o ambiente/simulador podem ser obtidas accessando o atributo `env.spec`. Embora não seja obrigatório, muitos ambientes do OpenAI Gym definem  metadados importantes relacionados à tarefa de RL. Em particular, `env.spec.max_episode_steps` define o número máximo de passos de decisão que um agente pode tomar em um episódio (i.e., o tamanho máximo de uma trajetória) e `env.spec.reward_threshold` define o valor mínimo de retorno (i.e., recompensa total) de um episódio para o qual a tarefa é considerada resolvida."
   ]
  },
  {
   "cell_type": "code",
   "execution_count": 3,
   "metadata": {},
   "outputs": [
    {
     "name": "stdout",
     "output_type": "stream",
     "text": [
      "MAX_EPISODE_STEPS = 200\n",
      "REWARD THRESHOLD = -110.0\n"
     ]
    }
   ],
   "source": [
    "print(f\"MAX_EPISODE_STEPS = {env.spec.max_episode_steps}\")\n",
    "print(f\"REWARD THRESHOLD = {env.spec.reward_threshold}\")"
   ]
  },
  {
   "cell_type": "markdown",
   "metadata": {},
   "source": [
    "### 1.1. Espaço de estados e ações\n",
    "\n",
    "Todo agente de RL deve conhecer quais ações pode tomar no ambiente e também quais as características das variáveis de observações que aquele ambiente lhe disponibiliza. Para acessar o espaço de estados e ações, um ambiente do gym disponibiliza os atributos `env.observation_space` e `env.action_space`, respectivamente.\n",
    "\n",
    "Note que essas informações serão importantes futuramente na definição das entradas e saídas das redes neurais artificiais que utilizaremos para representar a política $\\pi_\\theta$ do agente e também na criação de outros modelos.   "
   ]
  },
  {
   "cell_type": "markdown",
   "metadata": {},
   "source": [
    "Todo `observation_space` tem associado seu tipo numérico (e.g., int, float,...) e as dimensões de uma observação. Além disso, é possível saber se o valor das variáveis observação são limitadas ou não, e se forem limitadas qual o valor mínimo e máximo."
   ]
  },
  {
   "cell_type": "code",
   "execution_count": 4,
   "metadata": {},
   "outputs": [
    {
     "name": "stdout",
     "output_type": "stream",
     "text": [
      "float32\n",
      "(2,)\n",
      "[ True  True] [-1.2  -0.07]\n",
      "[ True  True] [0.6  0.07]\n"
     ]
    }
   ],
   "source": [
    "obs_space = env.observation_space\n",
    "\n",
    "print(obs_space.dtype)\n",
    "print(obs_space.shape)\n",
    "print(obs_space.bounded_above, obs_space.low)\n",
    "print(obs_space.bounded_below, obs_space.high)"
   ]
  },
  {
   "cell_type": "markdown",
   "metadata": {},
   "source": [
    "Para o `MountainCar-v0` note que uma observação correponde a um vetor de números reais de tamanho 2 (i.e., um par de valores em ponto flutuante). Note que a primeira componente do vetor é limitada entre -1.2 e 0.6, e a segunda componente entre -0.07 e 0.07. "
   ]
  },
  {
   "cell_type": "markdown",
   "metadata": {},
   "source": [
    "Analogamente, todo `action_space` tem associado seu tipo numérico e as dimensões de uma ação:"
   ]
  },
  {
   "cell_type": "code",
   "execution_count": 5,
   "metadata": {},
   "outputs": [
    {
     "name": "stdout",
     "output_type": "stream",
     "text": [
      "int64\n",
      "()\n",
      "3\n"
     ]
    }
   ],
   "source": [
    "action_space = env.action_space\n",
    "\n",
    "print(action_space.dtype)\n",
    "print(action_space.shape)\n",
    "print(action_space.n)"
   ]
  },
  {
   "cell_type": "markdown",
   "metadata": {},
   "source": [
    "Note que para o `MountainCar-v0` o agente deverá escolher ações discretas (i.e., representadas por números inteiros). Observe também que o `shape==()` indica que uma ação é dada por um único escalar (e não um vetor como no caso do `observation_space`. Para acessar o número de possíveis valores da ação basta acessar o atributo `action_space.n`."
   ]
  },
  {
   "cell_type": "markdown",
   "metadata": {},
   "source": [
    "> **Atenção**: em algumas situações pode ser interessante ter acesso à amostras de observações e ações. Você pode usar os métodos `env.observation_space.sample()` e `env.action_space.sample()` para gerar aleatoriamente observações e ações direto do ambiente `env`. "
   ]
  },
  {
   "cell_type": "code",
   "execution_count": 6,
   "metadata": {},
   "outputs": [
    {
     "name": "stdout",
     "output_type": "stream",
     "text": [
      "[array([0.19470312, 0.02121749], dtype=float32), array([-0.7635272 , -0.04063755], dtype=float32), array([-0.44346398,  0.03446908], dtype=float32)]\n"
     ]
    }
   ],
   "source": [
    "obs_samples = [env.observation_space.sample() for _ in range(3)]\n",
    "print(obs_samples)"
   ]
  },
  {
   "cell_type": "code",
   "execution_count": 7,
   "metadata": {},
   "outputs": [
    {
     "name": "stdout",
     "output_type": "stream",
     "text": [
      "[1, 2, 1, 1, 2]\n"
     ]
    }
   ],
   "source": [
    "action_samples = [env.action_space.sample() for _ in range(5)]\n",
    "print(action_samples)"
   ]
  },
  {
   "cell_type": "markdown",
   "metadata": {},
   "source": [
    "### 1.2 Interface do Gym: métodos reset, step, render e close\n",
    "\n",
    "Um objeto `env` do Gym fornece 4 métodos principais para interagir com o simulador: \n",
    "1. `reset` permite re-inicialiar o simulador para um de seus estados iniciais;\n",
    "2. `step` se encarrega de executar uma ação no ambiente;\n",
    "3. `render` visualiza graficamente o estado do agente; e\n",
    "4. `close` libera recursos utilizados na simulação (por exemplo fecha a janela de visualização)."
   ]
  },
  {
   "cell_type": "code",
   "execution_count": 8,
   "metadata": {},
   "outputs": [
    {
     "name": "stdout",
     "output_type": "stream",
     "text": [
      "obs 0 = [-0.56294593  0.        ]\n",
      "obs 1 = [-0.50803663  0.        ]\n",
      "obs 2 = [-0.54389554  0.        ]\n",
      "obs 3 = [-0.48841605  0.        ]\n",
      "obs 4 = [-0.40060507  0.        ]\n"
     ]
    }
   ],
   "source": [
    "for i in range(5):\n",
    "    obs = env.reset()\n",
    "    print(f\"obs {i} = {obs}\")"
   ]
  },
  {
   "cell_type": "markdown",
   "metadata": {},
   "source": [
    "Note que a observação do estado inicial muda conforme o método `.reset()` é chamado. Isso se deve ao fato de que o estado inicial é definido como uma variável aleatória regida por uma distribuição inicial."
   ]
  },
  {
   "cell_type": "code",
   "execution_count": 9,
   "metadata": {},
   "outputs": [
    {
     "name": "stdout",
     "output_type": "stream",
     "text": [
      "transition 0 = (1, [-5.30924410e-01  5.53528834e-05], -1.0)\n",
      "transition 1 = (1, [-5.30814120e-01  1.10290721e-04], -1.0)\n",
      "transition 2 = (1, [-5.30649718e-01  1.64401575e-04], -1.0)\n",
      "transition 3 = (2, [-0.52943244  0.00121728], -1.0)\n",
      "transition 4 = (0, [-5.29171408e-01  2.61029937e-04], -1.0)\n"
     ]
    }
   ],
   "source": [
    "obs = env.reset()\n",
    "\n",
    "for i in range(5):\n",
    "    action = env.action_space.sample()\n",
    "    obs, reward, done, info = env.step(action)\n",
    "    print(f\"transition {i} = ({action}, {obs}, {reward})\")"
   ]
  },
  {
   "cell_type": "markdown",
   "metadata": {},
   "source": [
    "> **Atenção**: Você pode se familiarizar com os argumentos e retorno de ambos os métodos através de seus *docstrings* acessados via `?`."
   ]
  },
  {
   "cell_type": "code",
   "execution_count": 10,
   "metadata": {},
   "outputs": [
    {
     "data": {
      "text/plain": [
       "\u001b[0;31mSignature:\u001b[0m \u001b[0menv\u001b[0m\u001b[0;34m.\u001b[0m\u001b[0mreset\u001b[0m\u001b[0;34m(\u001b[0m\u001b[0;34m**\u001b[0m\u001b[0mkwargs\u001b[0m\u001b[0;34m)\u001b[0m\u001b[0;34m\u001b[0m\u001b[0;34m\u001b[0m\u001b[0m\n",
       "\u001b[0;31mDocstring:\u001b[0m\n",
       "Resets the state of the environment and returns an initial observation.\n",
       "\n",
       "Returns:\n",
       "    observation (object): the initial observation.\n",
       "\u001b[0;31mFile:\u001b[0m      ~/miniconda3/envs/rlsummer/lib/python3.6/site-packages/gym/wrappers/time_limit.py\n",
       "\u001b[0;31mType:\u001b[0m      method\n"
      ]
     },
     "metadata": {},
     "output_type": "display_data"
    }
   ],
   "source": [
    "env.reset?"
   ]
  },
  {
   "cell_type": "code",
   "execution_count": 11,
   "metadata": {},
   "outputs": [
    {
     "data": {
      "text/plain": [
       "\u001b[0;31mSignature:\u001b[0m \u001b[0menv\u001b[0m\u001b[0;34m.\u001b[0m\u001b[0mstep\u001b[0m\u001b[0;34m(\u001b[0m\u001b[0maction\u001b[0m\u001b[0;34m)\u001b[0m\u001b[0;34m\u001b[0m\u001b[0;34m\u001b[0m\u001b[0m\n",
       "\u001b[0;31mDocstring:\u001b[0m\n",
       "Run one timestep of the environment's dynamics. When end of\n",
       "episode is reached, you are responsible for calling `reset()`\n",
       "to reset this environment's state.\n",
       "\n",
       "Accepts an action and returns a tuple (observation, reward, done, info).\n",
       "\n",
       "Args:\n",
       "    action (object): an action provided by the agent\n",
       "\n",
       "Returns:\n",
       "    observation (object): agent's observation of the current environment\n",
       "    reward (float) : amount of reward returned after previous action\n",
       "    done (bool): whether the episode has ended, in which case further step() calls will return undefined results\n",
       "    info (dict): contains auxiliary diagnostic information (helpful for debugging, and sometimes learning)\n",
       "\u001b[0;31mFile:\u001b[0m      ~/miniconda3/envs/rlsummer/lib/python3.6/site-packages/gym/wrappers/time_limit.py\n",
       "\u001b[0;31mType:\u001b[0m      method\n"
      ]
     },
     "metadata": {},
     "output_type": "display_data"
    }
   ],
   "source": [
    "env.step?"
   ]
  },
  {
   "cell_type": "markdown",
   "metadata": {},
   "source": [
    "## 2. Agentes \n",
    "\n",
    "A fim de permitir a implementação do **ciclo de interação Agente-Ambiente**, um agente de RL deve ser capaz de escolher uma ação para cada observação recebida do ambiente e aprender (i.e., melhorar sua performance) a partir de suas experiências.\n",
    "\n",
    "Nesse contexto, na classe abstrata `Agent` definimos a interface geral de um agente de RL. \n",
    "\n",
    "> **Atenção**: Familiarize-se com essa classe; todos os agentes definidos nessa aula e nas próximas deverão especializar (i.e., derivar ou sub-classear) essa interface geral."
   ]
  },
  {
   "cell_type": "code",
   "execution_count": 12,
   "metadata": {},
   "outputs": [],
   "source": [
    "class RLAgent:\n",
    "    \"\"\"\n",
    "    Classe abstrata que define a interface básica de um agente RL.\n",
    "\n",
    "    Args:\n",
    "        obs_space:     especificação do espaço de observações do ambiente.\n",
    "        action_space:  especificação do espaço de ações do ambiente.\n",
    "        config (dict): (opcional) configurações de hiper-parâmetros.\n",
    "    \"\"\"\n",
    "    \n",
    "    __metaclass__ = abc.ABCMeta\n",
    "\n",
    "    def __init__(self, obs_space, action_space, config=None):\n",
    "        self.obs_space = obs_space\n",
    "        self.action_space = action_space\n",
    "        self.config = config\n",
    "\n",
    "    @abc.abstractmethod\n",
    "    def act(self, obs):\n",
    "        \"\"\"\n",
    "        Escolhe uma ação para ser tomada dada uma observação do ambiente.\n",
    "        \n",
    "        Args: \n",
    "            obs: observação do ambiente.\n",
    "        \n",
    "        Return:\n",
    "            action: ação válida dentro do espaço de ações.\n",
    "        \"\"\"\n",
    "        raise NotImplementedError\n",
    "\n",
    "    @abc.abstractmethod\n",
    "    def observe(self, obs, action, reward, next_obs, done):\n",
    "        \"\"\"\n",
    "        Registra na memória do agente uma transição do ambiente.\n",
    "\n",
    "        Args:\n",
    "            obs:            observação do ambiente antes da execução da ação.\n",
    "            action:         ação escolhida pelo agente.\n",
    "            reward (float): escalar indicando a recompensa obtida após a execução da ação.\n",
    "            next_obs:       nova observação recebida do ambiente após a execução da ação.\n",
    "            done (bool):    True se a nova observação corresponde a um estado terminal, False caso contrário.\n",
    "\n",
    "        Return:\n",
    "            None\n",
    "        \"\"\"\n",
    "        raise NotImplementedError\n",
    "\n",
    "    @abc.abstractmethod\n",
    "    def learn(self):\n",
    "        \"\"\"\n",
    "        Método de treinamento do agente. A partir das experiências de sua memória,\n",
    "        o agente aprende um novo comportamento.\n",
    "\n",
    "        Args: \n",
    "            None\n",
    "\n",
    "        Return:\n",
    "            None\n",
    "        \"\"\"     \n",
    "        raise NotImplementedError\n"
   ]
  },
  {
   "cell_type": "markdown",
   "metadata": {},
   "source": [
    "### 2.1 Definindo um agente aleatório\n",
    "\n",
    "Antes de finalmente definir o ciclo de interação agente-ambiente, vamos implementar um agente que escolhe ações aleatórias.\n",
    "\n",
    "O agente `RandomPolicy` tem seu comportamento definido por uma política estocástica dada por uma distribuição uniforme sobre as ações válidas:\n",
    "\n",
    "$$\n",
    "\\mathbf{a}_t \\sim \\pi(\\cdot|\\mathbf{s}) = \\mathcal{Uniform}(\\{ \\mathbf{a} : \\mathbf{a} \\in \\mathcal{A} \\})~.\n",
    "$$\n",
    "\n",
    "Note que nesse ponto do curso, a implementação do agente aleatório é basicamente ilustrativa. No entanto, como veremos nas aulas seguintes, um agente que implementa uma política aleatória tem duas importantes funções:\n",
    "1. servir de referência de performance final; e\n",
    "2. guiar a inicialização de agentes de RL.\n",
    "\n",
    "Em outras palavras, se um agente de RL após o treinamento não conseguir uma performance significativamente melhor do que aquela do agente aleatório, então muito provavelemente algo não está funcionando como deveria. Além disso, ao garantir que a inicialização de uma política induza um comportamente similar ao de um agente aleatório, não estaremos enviesando a exploração inicial do agente; o que poderia levar muito rapidamente para uma performance sub-ótima."
   ]
  },
  {
   "cell_type": "code",
   "execution_count": 13,
   "metadata": {},
   "outputs": [],
   "source": [
    "class RandomPolicy(RLAgent):\n",
    "    \"\"\"\n",
    "    Agente aleatório. Escolhe aleatoriamente uma ação independentemente\n",
    "    da observação recebida do ambiente.\n",
    "    \n",
    "    Args:\n",
    "        action_space:  especificação do espaço de ações do ambiente.\n",
    "    \"\"\"\n",
    "    \n",
    "    def __init__(self, observation_space, action_space, config=None):\n",
    "        super(RandomPolicy, self).__init__(observation_space, action_space, config)\n",
    "\n",
    "    def act(self, obs):\n",
    "        \"\"\"Retorna uma ação aleatória.\"\"\"\n",
    "        return self.action_space.sample()\n",
    "\n",
    "    def observe(self, obs, action, reward, next_obs, done):\n",
    "        \"\"\"Ignora transições; i.e., um agente aletório não armazena experiências na memória.\"\"\"\n",
    "        pass\n",
    "\n",
    "    def learn(self):\n",
    "        \"\"\"Um agente aletório não aprende; i.e., não melhora seu comportamento.\"\"\"\n",
    "        pass\n"
   ]
  },
  {
   "cell_type": "markdown",
   "metadata": {},
   "source": [
    "Note que para uma mesma observação o agente `RandomPolicy` retorna diferentes ações a cada chamada:"
   ]
  },
  {
   "cell_type": "code",
   "execution_count": 14,
   "metadata": {},
   "outputs": [
    {
     "name": "stdout",
     "output_type": "stream",
     "text": [
      "[1, 2, 0, 1, 0, 2, 2, 1, 0, 2, 2, 1, 2, 0, 1, 1, 1, 1, 1, 0]\n"
     ]
    }
   ],
   "source": [
    "agent = RandomPolicy(env.observation_space, env.action_space)\n",
    "\n",
    "obs = env.reset()\n",
    "print([agent.act(obs) for _ in range(20)])"
   ]
  },
  {
   "cell_type": "code",
   "execution_count": 15,
   "metadata": {},
   "outputs": [
    {
     "data": {
      "text/html": [
       "\n",
       "\n",
       "\n",
       "\n",
       "\n",
       "\n",
       "  <div class=\"bk-root\" id=\"895ee7be-224d-429f-814d-720a0b10b50c\" data-root-id=\"1397\"></div>\n"
      ]
     },
     "metadata": {},
     "output_type": "display_data"
    },
    {
     "data": {
      "application/javascript": [
       "(function(root) {\n",
       "  function embed_document(root) {\n",
       "    \n",
       "  var docs_json = {\"b39557bf-b488-4209-90fa-a57aa2c9d581\":{\"roots\":{\"references\":[{\"attributes\":{\"children\":[{\"id\":\"1396\",\"type\":\"ToolbarBox\"},{\"id\":\"1394\",\"type\":\"GridBox\"}]},\"id\":\"1397\",\"type\":\"Column\"},{\"attributes\":{},\"id\":\"1255\",\"type\":\"LinearScale\"},{\"attributes\":{\"callback\":null},\"id\":\"1046\",\"type\":\"DataRange1d\"},{\"attributes\":{},\"id\":\"1257\",\"type\":\"LinearScale\"},{\"attributes\":{\"callback\":null},\"id\":\"1089\",\"type\":\"DataRange1d\"},{\"attributes\":{\"axis_label\":\"Actions\",\"formatter\":{\"id\":\"1379\",\"type\":\"BasicTickFormatter\"},\"major_label_overrides\":{\"0.3333333333333333\":\"0\",\"1.0\":\"1\",\"1.6666666666666665\":\"2\"},\"ticker\":{\"id\":\"1282\",\"type\":\"FixedTicker\"}},\"id\":\"1259\",\"type\":\"LinearAxis\"},{\"attributes\":{\"axis_label\":\"Actions\",\"formatter\":{\"id\":\"1339\",\"type\":\"BasicTickFormatter\"},\"major_label_overrides\":{\"0.3333333333333333\":\"0\",\"1.0\":\"1\",\"1.6666666666666665\":\"2\"},\"ticker\":{\"id\":\"1077\",\"type\":\"FixedTicker\"}},\"id\":\"1054\",\"type\":\"LinearAxis\"},{\"attributes\":{\"ticks\":[0.3333333333333333,1.0,1.6666666666666665]},\"id\":\"1077\",\"type\":\"FixedTicker\"},{\"attributes\":{},\"id\":\"1260\",\"type\":\"BasicTicker\"},{\"attributes\":{\"axis_label\":\"Actions\",\"formatter\":{\"id\":\"1331\",\"type\":\"BasicTickFormatter\"},\"major_label_overrides\":{\"0.3333333333333333\":\"0\",\"1.0\":\"1\",\"1.6666666666666665\":\"2\"},\"ticker\":{\"id\":\"1036\",\"type\":\"FixedTicker\"}},\"id\":\"1013\",\"type\":\"LinearAxis\"},{\"attributes\":{\"ticker\":{\"id\":\"1260\",\"type\":\"BasicTicker\"},\"visible\":false},\"id\":\"1263\",\"type\":\"Grid\"},{\"attributes\":{},\"id\":\"1366\",\"type\":\"Selection\"},{\"attributes\":{\"ticker\":{\"id\":\"1055\",\"type\":\"BasicTicker\"},\"visible\":false},\"id\":\"1058\",\"type\":\"Grid\"},{\"attributes\":{\"axis_label\":\"Action Distribution\",\"formatter\":{\"id\":\"1381\",\"type\":\"BasicTickFormatter\"},\"ticker\":{\"id\":\"1265\",\"type\":\"BasicTicker\"}},\"id\":\"1264\",\"type\":\"LinearAxis\"},{\"attributes\":{},\"id\":\"1055\",\"type\":\"BasicTicker\"},{\"attributes\":{},\"id\":\"1009\",\"type\":\"LinearScale\"},{\"attributes\":{},\"id\":\"1060\",\"type\":\"BasicTicker\"},{\"attributes\":{\"below\":[{\"id\":\"1054\",\"type\":\"LinearAxis\"}],\"center\":[{\"id\":\"1058\",\"type\":\"Grid\"},{\"id\":\"1063\",\"type\":\"Grid\"}],\"left\":[{\"id\":\"1059\",\"type\":\"LinearAxis\"}],\"plot_height\":250,\"plot_width\":250,\"renderers\":[{\"id\":\"1082\",\"type\":\"GlyphRenderer\"}],\"title\":{\"id\":\"1044\",\"type\":\"Title\"},\"toolbar\":{\"id\":\"1070\",\"type\":\"Toolbar\"},\"toolbar_location\":null,\"x_range\":{\"id\":\"1046\",\"type\":\"DataRange1d\"},\"x_scale\":{\"id\":\"1050\",\"type\":\"LinearScale\"},\"y_range\":{\"id\":\"1048\",\"type\":\"DataRange1d\"},\"y_scale\":{\"id\":\"1052\",\"type\":\"LinearScale\"}},\"id\":\"1043\",\"subtype\":\"Figure\",\"type\":\"Plot\"},{\"attributes\":{\"dimension\":1,\"ticker\":{\"id\":\"1060\",\"type\":\"BasicTicker\"}},\"id\":\"1063\",\"type\":\"Grid\"},{\"attributes\":{},\"id\":\"1265\",\"type\":\"BasicTicker\"},{\"attributes\":{\"dimension\":1,\"ticker\":{\"id\":\"1265\",\"type\":\"BasicTicker\"}},\"id\":\"1268\",\"type\":\"Grid\"},{\"attributes\":{},\"id\":\"1014\",\"type\":\"BasicTicker\"},{\"attributes\":{},\"id\":\"1065\",\"type\":\"WheelZoomTool\"},{\"attributes\":{\"axis_label\":\"Action Distribution\",\"formatter\":{\"id\":\"1341\",\"type\":\"BasicTickFormatter\"},\"ticker\":{\"id\":\"1060\",\"type\":\"BasicTicker\"}},\"id\":\"1059\",\"type\":\"LinearAxis\"},{\"attributes\":{\"ticks\":[0.3333333333333333,1.0,1.6666666666666665]},\"id\":\"1282\",\"type\":\"FixedTicker\"},{\"attributes\":{\"callback\":null},\"id\":\"1005\",\"type\":\"DataRange1d\"},{\"attributes\":{\"active_drag\":\"auto\",\"active_inspect\":\"auto\",\"active_multi\":null,\"active_scroll\":\"auto\",\"active_tap\":\"auto\",\"tools\":[{\"id\":\"1269\",\"type\":\"PanTool\"},{\"id\":\"1270\",\"type\":\"WheelZoomTool\"},{\"id\":\"1271\",\"type\":\"BoxZoomTool\"},{\"id\":\"1272\",\"type\":\"SaveTool\"},{\"id\":\"1273\",\"type\":\"ResetTool\"},{\"id\":\"1274\",\"type\":\"HelpTool\"}]},\"id\":\"1275\",\"type\":\"Toolbar\"},{\"attributes\":{},\"id\":\"1269\",\"type\":\"PanTool\"},{\"attributes\":{},\"id\":\"1011\",\"type\":\"LinearScale\"},{\"attributes\":{\"source\":{\"id\":\"1038\",\"type\":\"ColumnDataSource\"}},\"id\":\"1042\",\"type\":\"CDSView\"},{\"attributes\":{},\"id\":\"1068\",\"type\":\"ResetTool\"},{\"attributes\":{},\"id\":\"1270\",\"type\":\"WheelZoomTool\"},{\"attributes\":{},\"id\":\"1052\",\"type\":\"LinearScale\"},{\"attributes\":{},\"id\":\"1064\",\"type\":\"PanTool\"},{\"attributes\":{\"overlay\":{\"id\":\"1384\",\"type\":\"BoxAnnotation\"}},\"id\":\"1271\",\"type\":\"BoxZoomTool\"},{\"attributes\":{},\"id\":\"1272\",\"type\":\"SaveTool\"},{\"attributes\":{\"active_drag\":\"auto\",\"active_inspect\":\"auto\",\"active_multi\":null,\"active_scroll\":\"auto\",\"active_tap\":\"auto\",\"tools\":[{\"id\":\"1064\",\"type\":\"PanTool\"},{\"id\":\"1065\",\"type\":\"WheelZoomTool\"},{\"id\":\"1066\",\"type\":\"BoxZoomTool\"},{\"id\":\"1067\",\"type\":\"SaveTool\"},{\"id\":\"1068\",\"type\":\"ResetTool\"},{\"id\":\"1069\",\"type\":\"HelpTool\"}]},\"id\":\"1070\",\"type\":\"Toolbar\"},{\"attributes\":{},\"id\":\"1273\",\"type\":\"ResetTool\"},{\"attributes\":{},\"id\":\"1019\",\"type\":\"BasicTicker\"},{\"attributes\":{\"callback\":null,\"data\":{\"left\":{\"__ndarray__\":\"AAAAAAAAAABVVVVVVVXlP1VVVVVVVfU/\",\"dtype\":\"float64\",\"shape\":[3]},\"right\":{\"__ndarray__\":\"VVVVVVVV5T9VVVVVVVX1PwAAAAAAAABA\",\"dtype\":\"float64\",\"shape\":[3]},\"top\":{\"__ndarray__\":\"MQisHFpk3z8v3SQGgZXfP0+Nl24Sg+A/\",\"dtype\":\"float64\",\"shape\":[3]}},\"selected\":{\"id\":\"1342\",\"type\":\"Selection\"},\"selection_policy\":{\"id\":\"1343\",\"type\":\"UnionRenderers\"}},\"id\":\"1079\",\"type\":\"ColumnDataSource\"},{\"attributes\":{},\"id\":\"1274\",\"type\":\"HelpTool\"},{\"attributes\":{\"ticker\":{\"id\":\"1014\",\"type\":\"BasicTicker\"},\"visible\":false},\"id\":\"1017\",\"type\":\"Grid\"},{\"attributes\":{\"axis_label\":\"Action Distribution\",\"formatter\":{\"id\":\"1333\",\"type\":\"BasicTickFormatter\"},\"ticker\":{\"id\":\"1019\",\"type\":\"BasicTicker\"}},\"id\":\"1018\",\"type\":\"LinearAxis\"},{\"attributes\":{\"text\":\"obs = [0.46603295 0.04726408]\"},\"id\":\"1003\",\"type\":\"Title\"},{\"attributes\":{\"bottom\":{\"value\":0},\"fill_alpha\":{\"value\":0.5},\"fill_color\":{\"value\":\"#1f77b4\"},\"left\":{\"field\":\"left\"},\"line_alpha\":{\"value\":0.5},\"line_color\":{\"value\":\"white\"},\"right\":{\"field\":\"right\"},\"top\":{\"field\":\"top\"}},\"id\":\"1285\",\"type\":\"Quad\"},{\"attributes\":{\"callback\":null},\"id\":\"1007\",\"type\":\"DataRange1d\"},{\"attributes\":{},\"id\":\"1024\",\"type\":\"WheelZoomTool\"},{\"attributes\":{\"bottom\":{\"value\":0},\"fill_alpha\":{\"value\":0.1},\"fill_color\":{\"value\":\"#1f77b4\"},\"left\":{\"field\":\"left\"},\"line_alpha\":{\"value\":0.1},\"line_color\":{\"value\":\"#1f77b4\"},\"right\":{\"field\":\"right\"},\"top\":{\"field\":\"top\"}},\"id\":\"1286\",\"type\":\"Quad\"},{\"attributes\":{},\"id\":\"1067\",\"type\":\"SaveTool\"},{\"attributes\":{\"data_source\":{\"id\":\"1284\",\"type\":\"ColumnDataSource\"},\"glyph\":{\"id\":\"1285\",\"type\":\"Quad\"},\"hover_glyph\":null,\"muted_glyph\":null,\"nonselection_glyph\":{\"id\":\"1286\",\"type\":\"Quad\"},\"selection_glyph\":null,\"view\":{\"id\":\"1288\",\"type\":\"CDSView\"}},\"id\":\"1287\",\"type\":\"GlyphRenderer\"},{\"attributes\":{},\"id\":\"1050\",\"type\":\"LinearScale\"},{\"attributes\":{\"overlay\":{\"id\":\"1344\",\"type\":\"BoxAnnotation\"}},\"id\":\"1066\",\"type\":\"BoxZoomTool\"},{\"attributes\":{\"source\":{\"id\":\"1284\",\"type\":\"ColumnDataSource\"}},\"id\":\"1288\",\"type\":\"CDSView\"},{\"attributes\":{\"callback\":null,\"data\":{\"left\":{\"__ndarray__\":\"AAAAAAAAAABVVVVVVVXlP1VVVVVVVfU/\",\"dtype\":\"float64\",\"shape\":[3]},\"right\":{\"__ndarray__\":\"VVVVVVVV5T9VVVVVVVX1PwAAAAAAAABA\",\"dtype\":\"float64\",\"shape\":[3]},\"top\":{\"__ndarray__\":\"y6FFtvP93D++nxov3STePzrfT42XbuI/\",\"dtype\":\"float64\",\"shape\":[3]}},\"selected\":{\"id\":\"1334\",\"type\":\"Selection\"},\"selection_policy\":{\"id\":\"1335\",\"type\":\"UnionRenderers\"}},\"id\":\"1038\",\"type\":\"ColumnDataSource\"},{\"attributes\":{\"below\":[{\"id\":\"1300\",\"type\":\"LinearAxis\"}],\"center\":[{\"id\":\"1304\",\"type\":\"Grid\"},{\"id\":\"1309\",\"type\":\"Grid\"}],\"left\":[{\"id\":\"1305\",\"type\":\"LinearAxis\"}],\"plot_height\":250,\"plot_width\":250,\"renderers\":[{\"id\":\"1328\",\"type\":\"GlyphRenderer\"}],\"title\":{\"id\":\"1290\",\"type\":\"Title\"},\"toolbar\":{\"id\":\"1316\",\"type\":\"Toolbar\"},\"toolbar_location\":null,\"x_range\":{\"id\":\"1292\",\"type\":\"DataRange1d\"},\"x_scale\":{\"id\":\"1296\",\"type\":\"LinearScale\"},\"y_range\":{\"id\":\"1294\",\"type\":\"DataRange1d\"},\"y_scale\":{\"id\":\"1298\",\"type\":\"LinearScale\"}},\"id\":\"1289\",\"subtype\":\"Figure\",\"type\":\"Plot\"},{\"attributes\":{\"dimension\":1,\"ticker\":{\"id\":\"1019\",\"type\":\"BasicTicker\"}},\"id\":\"1022\",\"type\":\"Grid\"},{\"attributes\":{\"ticks\":[0.3333333333333333,1.0,1.6666666666666665]},\"id\":\"1323\",\"type\":\"FixedTicker\"},{\"attributes\":{\"text\":\"obs = [0.53490907 0.05427908]\"},\"id\":\"1290\",\"type\":\"Title\"},{\"attributes\":{\"callback\":null},\"id\":\"1292\",\"type\":\"DataRange1d\"},{\"attributes\":{\"callback\":null},\"id\":\"1294\",\"type\":\"DataRange1d\"},{\"attributes\":{},\"id\":\"1027\",\"type\":\"ResetTool\"},{\"attributes\":{},\"id\":\"1026\",\"type\":\"SaveTool\"},{\"attributes\":{},\"id\":\"1069\",\"type\":\"HelpTool\"},{\"attributes\":{},\"id\":\"1296\",\"type\":\"LinearScale\"},{\"attributes\":{\"source\":{\"id\":\"1079\",\"type\":\"ColumnDataSource\"}},\"id\":\"1083\",\"type\":\"CDSView\"},{\"attributes\":{\"text\":\"obs = [-1.0781175e+00  2.8570223e-04]\"},\"id\":\"1085\",\"type\":\"Title\"},{\"attributes\":{},\"id\":\"1298\",\"type\":\"LinearScale\"},{\"attributes\":{\"active_drag\":\"auto\",\"active_inspect\":\"auto\",\"active_multi\":null,\"active_scroll\":\"auto\",\"active_tap\":\"auto\",\"tools\":[{\"id\":\"1023\",\"type\":\"PanTool\"},{\"id\":\"1024\",\"type\":\"WheelZoomTool\"},{\"id\":\"1025\",\"type\":\"BoxZoomTool\"},{\"id\":\"1026\",\"type\":\"SaveTool\"},{\"id\":\"1027\",\"type\":\"ResetTool\"},{\"id\":\"1028\",\"type\":\"HelpTool\"}]},\"id\":\"1029\",\"type\":\"Toolbar\"},{\"attributes\":{\"bottom\":{\"value\":0},\"fill_alpha\":{\"value\":0.5},\"fill_color\":{\"value\":\"#1f77b4\"},\"left\":{\"field\":\"left\"},\"line_alpha\":{\"value\":0.5},\"line_color\":{\"value\":\"white\"},\"right\":{\"field\":\"right\"},\"top\":{\"field\":\"top\"}},\"id\":\"1080\",\"type\":\"Quad\"},{\"attributes\":{\"axis_label\":\"Actions\",\"formatter\":{\"id\":\"1387\",\"type\":\"BasicTickFormatter\"},\"major_label_overrides\":{\"0.3333333333333333\":\"0\",\"1.0\":\"1\",\"1.6666666666666665\":\"2\"},\"ticker\":{\"id\":\"1323\",\"type\":\"FixedTicker\"}},\"id\":\"1300\",\"type\":\"LinearAxis\"},{\"attributes\":{},\"id\":\"1023\",\"type\":\"PanTool\"},{\"attributes\":{\"data_source\":{\"id\":\"1079\",\"type\":\"ColumnDataSource\"},\"glyph\":{\"id\":\"1080\",\"type\":\"Quad\"},\"hover_glyph\":null,\"muted_glyph\":null,\"nonselection_glyph\":{\"id\":\"1081\",\"type\":\"Quad\"},\"selection_glyph\":null,\"view\":{\"id\":\"1083\",\"type\":\"CDSView\"}},\"id\":\"1082\",\"type\":\"GlyphRenderer\"},{\"attributes\":{\"active_drag\":\"auto\",\"active_inspect\":\"auto\",\"active_multi\":null,\"active_scroll\":\"auto\",\"active_tap\":\"auto\",\"tools\":[{\"id\":\"1187\",\"type\":\"PanTool\"},{\"id\":\"1188\",\"type\":\"WheelZoomTool\"},{\"id\":\"1189\",\"type\":\"BoxZoomTool\"},{\"id\":\"1190\",\"type\":\"SaveTool\"},{\"id\":\"1191\",\"type\":\"ResetTool\"},{\"id\":\"1192\",\"type\":\"HelpTool\"}]},\"id\":\"1193\",\"type\":\"Toolbar\"},{\"attributes\":{},\"id\":\"1301\",\"type\":\"BasicTicker\"},{\"attributes\":{\"callback\":null},\"id\":\"1087\",\"type\":\"DataRange1d\"},{\"attributes\":{\"ticker\":{\"id\":\"1301\",\"type\":\"BasicTicker\"},\"visible\":false},\"id\":\"1304\",\"type\":\"Grid\"},{\"attributes\":{\"axis_label\":\"Action Distribution\",\"formatter\":{\"id\":\"1389\",\"type\":\"BasicTickFormatter\"},\"ticker\":{\"id\":\"1306\",\"type\":\"BasicTicker\"}},\"id\":\"1305\",\"type\":\"LinearAxis\"},{\"attributes\":{\"bottom\":{\"value\":0},\"fill_alpha\":{\"value\":0.5},\"fill_color\":{\"value\":\"#1f77b4\"},\"left\":{\"field\":\"left\"},\"line_alpha\":{\"value\":0.5},\"line_color\":{\"value\":\"white\"},\"right\":{\"field\":\"right\"},\"top\":{\"field\":\"top\"}},\"id\":\"1039\",\"type\":\"Quad\"},{\"attributes\":{\"bottom\":{\"value\":0},\"fill_alpha\":{\"value\":0.1},\"fill_color\":{\"value\":\"#1f77b4\"},\"left\":{\"field\":\"left\"},\"line_alpha\":{\"value\":0.1},\"line_color\":{\"value\":\"#1f77b4\"},\"right\":{\"field\":\"right\"},\"top\":{\"field\":\"top\"}},\"id\":\"1081\",\"type\":\"Quad\"},{\"attributes\":{\"below\":[{\"id\":\"1095\",\"type\":\"LinearAxis\"}],\"center\":[{\"id\":\"1099\",\"type\":\"Grid\"},{\"id\":\"1104\",\"type\":\"Grid\"}],\"left\":[{\"id\":\"1100\",\"type\":\"LinearAxis\"}],\"plot_height\":250,\"plot_width\":250,\"renderers\":[{\"id\":\"1123\",\"type\":\"GlyphRenderer\"}],\"title\":{\"id\":\"1085\",\"type\":\"Title\"},\"toolbar\":{\"id\":\"1111\",\"type\":\"Toolbar\"},\"toolbar_location\":null,\"x_range\":{\"id\":\"1087\",\"type\":\"DataRange1d\"},\"x_scale\":{\"id\":\"1091\",\"type\":\"LinearScale\"},\"y_range\":{\"id\":\"1089\",\"type\":\"DataRange1d\"},\"y_scale\":{\"id\":\"1093\",\"type\":\"LinearScale\"}},\"id\":\"1084\",\"subtype\":\"Figure\",\"type\":\"Plot\"},{\"attributes\":{},\"id\":\"1306\",\"type\":\"BasicTicker\"},{\"attributes\":{},\"id\":\"1028\",\"type\":\"HelpTool\"},{\"attributes\":{\"text\":\"obs = [-0.39783964  0.00998503]\"},\"id\":\"1044\",\"type\":\"Title\"},{\"attributes\":{\"callback\":null},\"id\":\"1048\",\"type\":\"DataRange1d\"},{\"attributes\":{\"dimension\":1,\"ticker\":{\"id\":\"1306\",\"type\":\"BasicTicker\"}},\"id\":\"1309\",\"type\":\"Grid\"},{\"attributes\":{\"overlay\":{\"id\":\"1336\",\"type\":\"BoxAnnotation\"}},\"id\":\"1025\",\"type\":\"BoxZoomTool\"},{\"attributes\":{\"callback\":null,\"data\":{\"left\":{\"__ndarray__\":\"AAAAAAAAAABVVVVVVVXlP1VVVVVVVfU/\",\"dtype\":\"float64\",\"shape\":[3]},\"right\":{\"__ndarray__\":\"VVVVVVVV5T9VVVVVVVX1PwAAAAAAAABA\",\"dtype\":\"float64\",\"shape\":[3]},\"top\":{\"__ndarray__\":\"wcqhRbbz3T8tsp3vp8bfP4hBYOXQIuE/\",\"dtype\":\"float64\",\"shape\":[3]}},\"selected\":{\"id\":\"1350\",\"type\":\"Selection\"},\"selection_policy\":{\"id\":\"1351\",\"type\":\"UnionRenderers\"}},\"id\":\"1120\",\"type\":\"ColumnDataSource\"},{\"attributes\":{\"callback\":null,\"data\":{\"left\":{\"__ndarray__\":\"AAAAAAAAAABVVVVVVVXlP1VVVVVVVfU/\",\"dtype\":\"float64\",\"shape\":[3]},\"right\":{\"__ndarray__\":\"VVVVVVVV5T9VVVVVVVX1PwAAAAAAAABA\",\"dtype\":\"float64\",\"shape\":[3]},\"top\":{\"__ndarray__\":\"BoGVQ4ts4T+4HoXrUbjePzrfT42Xbt4/\",\"dtype\":\"float64\",\"shape\":[3]}},\"selected\":{\"id\":\"1390\",\"type\":\"Selection\"},\"selection_policy\":{\"id\":\"1391\",\"type\":\"UnionRenderers\"}},\"id\":\"1325\",\"type\":\"ColumnDataSource\"},{\"attributes\":{\"active_drag\":\"auto\",\"active_inspect\":\"auto\",\"active_multi\":null,\"active_scroll\":\"auto\",\"active_tap\":\"auto\",\"tools\":[{\"id\":\"1310\",\"type\":\"PanTool\"},{\"id\":\"1311\",\"type\":\"WheelZoomTool\"},{\"id\":\"1312\",\"type\":\"BoxZoomTool\"},{\"id\":\"1313\",\"type\":\"SaveTool\"},{\"id\":\"1314\",\"type\":\"ResetTool\"},{\"id\":\"1315\",\"type\":\"HelpTool\"}]},\"id\":\"1316\",\"type\":\"Toolbar\"},{\"attributes\":{\"bottom\":{\"value\":0},\"fill_alpha\":{\"value\":0.5},\"fill_color\":{\"value\":\"#1f77b4\"},\"left\":{\"field\":\"left\"},\"line_alpha\":{\"value\":0.5},\"line_color\":{\"value\":\"white\"},\"right\":{\"field\":\"right\"},\"top\":{\"field\":\"top\"}},\"id\":\"1203\",\"type\":\"Quad\"},{\"attributes\":{},\"id\":\"1367\",\"type\":\"UnionRenderers\"},{\"attributes\":{},\"id\":\"1310\",\"type\":\"PanTool\"},{\"attributes\":{},\"id\":\"1093\",\"type\":\"LinearScale\"},{\"attributes\":{\"ticks\":[0.3333333333333333,1.0,1.6666666666666665]},\"id\":\"1159\",\"type\":\"FixedTicker\"},{\"attributes\":{\"bottom_units\":\"screen\",\"fill_alpha\":{\"value\":0.5},\"fill_color\":{\"value\":\"lightgrey\"},\"left_units\":\"screen\",\"level\":\"overlay\",\"line_alpha\":{\"value\":1.0},\"line_color\":{\"value\":\"black\"},\"line_dash\":[4,4],\"line_width\":{\"value\":2},\"render_mode\":\"css\",\"right_units\":\"screen\",\"top_units\":\"screen\"},\"id\":\"1368\",\"type\":\"BoxAnnotation\"},{\"attributes\":{},\"id\":\"1311\",\"type\":\"WheelZoomTool\"},{\"attributes\":{\"bottom\":{\"value\":0},\"fill_alpha\":{\"value\":0.1},\"fill_color\":{\"value\":\"#1f77b4\"},\"left\":{\"field\":\"left\"},\"line_alpha\":{\"value\":0.1},\"line_color\":{\"value\":\"#1f77b4\"},\"right\":{\"field\":\"right\"},\"top\":{\"field\":\"top\"}},\"id\":\"1204\",\"type\":\"Quad\"},{\"attributes\":{\"active_drag\":\"auto\",\"active_inspect\":\"auto\",\"active_multi\":null,\"active_scroll\":\"auto\",\"active_tap\":\"auto\",\"tools\":[{\"id\":\"1146\",\"type\":\"PanTool\"},{\"id\":\"1147\",\"type\":\"WheelZoomTool\"},{\"id\":\"1148\",\"type\":\"BoxZoomTool\"},{\"id\":\"1149\",\"type\":\"SaveTool\"},{\"id\":\"1150\",\"type\":\"ResetTool\"},{\"id\":\"1151\",\"type\":\"HelpTool\"}]},\"id\":\"1152\",\"type\":\"Toolbar\"},{\"attributes\":{},\"id\":\"1096\",\"type\":\"BasicTicker\"},{\"attributes\":{},\"id\":\"1371\",\"type\":\"BasicTickFormatter\"},{\"attributes\":{},\"id\":\"1146\",\"type\":\"PanTool\"},{\"attributes\":{\"overlay\":{\"id\":\"1392\",\"type\":\"BoxAnnotation\"}},\"id\":\"1312\",\"type\":\"BoxZoomTool\"},{\"attributes\":{\"data_source\":{\"id\":\"1202\",\"type\":\"ColumnDataSource\"},\"glyph\":{\"id\":\"1203\",\"type\":\"Quad\"},\"hover_glyph\":null,\"muted_glyph\":null,\"nonselection_glyph\":{\"id\":\"1204\",\"type\":\"Quad\"},\"selection_glyph\":null,\"view\":{\"id\":\"1206\",\"type\":\"CDSView\"}},\"id\":\"1205\",\"type\":\"GlyphRenderer\"},{\"attributes\":{},\"id\":\"1091\",\"type\":\"LinearScale\"},{\"attributes\":{},\"id\":\"1373\",\"type\":\"BasicTickFormatter\"},{\"attributes\":{},\"id\":\"1147\",\"type\":\"WheelZoomTool\"},{\"attributes\":{},\"id\":\"1313\",\"type\":\"SaveTool\"},{\"attributes\":{\"axis_label\":\"Actions\",\"formatter\":{\"id\":\"1347\",\"type\":\"BasicTickFormatter\"},\"major_label_overrides\":{\"0.3333333333333333\":\"0\",\"1.0\":\"1\",\"1.6666666666666665\":\"2\"},\"ticker\":{\"id\":\"1118\",\"type\":\"FixedTicker\"}},\"id\":\"1095\",\"type\":\"LinearAxis\"},{\"attributes\":{\"source\":{\"id\":\"1202\",\"type\":\"ColumnDataSource\"}},\"id\":\"1206\",\"type\":\"CDSView\"},{\"attributes\":{},\"id\":\"1374\",\"type\":\"Selection\"},{\"attributes\":{\"below\":[{\"id\":\"1218\",\"type\":\"LinearAxis\"}],\"center\":[{\"id\":\"1222\",\"type\":\"Grid\"},{\"id\":\"1227\",\"type\":\"Grid\"}],\"left\":[{\"id\":\"1223\",\"type\":\"LinearAxis\"}],\"plot_height\":250,\"plot_width\":250,\"renderers\":[{\"id\":\"1246\",\"type\":\"GlyphRenderer\"}],\"title\":{\"id\":\"1208\",\"type\":\"Title\"},\"toolbar\":{\"id\":\"1234\",\"type\":\"Toolbar\"},\"toolbar_location\":null,\"x_range\":{\"id\":\"1210\",\"type\":\"DataRange1d\"},\"x_scale\":{\"id\":\"1214\",\"type\":\"LinearScale\"},\"y_range\":{\"id\":\"1212\",\"type\":\"DataRange1d\"},\"y_scale\":{\"id\":\"1216\",\"type\":\"LinearScale\"}},\"id\":\"1207\",\"subtype\":\"Figure\",\"type\":\"Plot\"},{\"attributes\":{\"overlay\":{\"id\":\"1360\",\"type\":\"BoxAnnotation\"}},\"id\":\"1148\",\"type\":\"BoxZoomTool\"},{\"attributes\":{},\"id\":\"1314\",\"type\":\"ResetTool\"},{\"attributes\":{\"axis_label\":\"Action Distribution\",\"formatter\":{\"id\":\"1349\",\"type\":\"BasicTickFormatter\"},\"ticker\":{\"id\":\"1101\",\"type\":\"BasicTicker\"}},\"id\":\"1100\",\"type\":\"LinearAxis\"},{\"attributes\":{\"ticker\":{\"id\":\"1096\",\"type\":\"BasicTicker\"},\"visible\":false},\"id\":\"1099\",\"type\":\"Grid\"},{\"attributes\":{\"text\":\"obs = [-0.01945965 -0.04722882]\"},\"id\":\"1208\",\"type\":\"Title\"},{\"attributes\":{},\"id\":\"1375\",\"type\":\"UnionRenderers\"},{\"attributes\":{},\"id\":\"1149\",\"type\":\"SaveTool\"},{\"attributes\":{},\"id\":\"1315\",\"type\":\"HelpTool\"},{\"attributes\":{\"bottom_units\":\"screen\",\"fill_alpha\":{\"value\":0.5},\"fill_color\":{\"value\":\"lightgrey\"},\"left_units\":\"screen\",\"level\":\"overlay\",\"line_alpha\":{\"value\":1.0},\"line_color\":{\"value\":\"black\"},\"line_dash\":[4,4],\"line_width\":{\"value\":2},\"render_mode\":\"css\",\"right_units\":\"screen\",\"top_units\":\"screen\"},\"id\":\"1376\",\"type\":\"BoxAnnotation\"},{\"attributes\":{},\"id\":\"1150\",\"type\":\"ResetTool\"},{\"attributes\":{\"callback\":null},\"id\":\"1210\",\"type\":\"DataRange1d\"},{\"attributes\":{},\"id\":\"1101\",\"type\":\"BasicTicker\"},{\"attributes\":{},\"id\":\"1379\",\"type\":\"BasicTickFormatter\"},{\"attributes\":{},\"id\":\"1151\",\"type\":\"HelpTool\"},{\"attributes\":{\"bottom\":{\"value\":0},\"fill_alpha\":{\"value\":0.1},\"fill_color\":{\"value\":\"#1f77b4\"},\"left\":{\"field\":\"left\"},\"line_alpha\":{\"value\":0.1},\"line_color\":{\"value\":\"#1f77b4\"},\"right\":{\"field\":\"right\"},\"top\":{\"field\":\"top\"}},\"id\":\"1040\",\"type\":\"Quad\"},{\"attributes\":{\"bottom\":{\"value\":0},\"fill_alpha\":{\"value\":0.5},\"fill_color\":{\"value\":\"#1f77b4\"},\"left\":{\"field\":\"left\"},\"line_alpha\":{\"value\":0.5},\"line_color\":{\"value\":\"white\"},\"right\":{\"field\":\"right\"},\"top\":{\"field\":\"top\"}},\"id\":\"1326\",\"type\":\"Quad\"},{\"attributes\":{\"dimension\":1,\"ticker\":{\"id\":\"1101\",\"type\":\"BasicTicker\"}},\"id\":\"1104\",\"type\":\"Grid\"},{\"attributes\":{\"callback\":null},\"id\":\"1212\",\"type\":\"DataRange1d\"},{\"attributes\":{},\"id\":\"1381\",\"type\":\"BasicTickFormatter\"},{\"attributes\":{},\"id\":\"1214\",\"type\":\"LinearScale\"},{\"attributes\":{\"bottom\":{\"value\":0},\"fill_alpha\":{\"value\":0.1},\"fill_color\":{\"value\":\"#1f77b4\"},\"left\":{\"field\":\"left\"},\"line_alpha\":{\"value\":0.1},\"line_color\":{\"value\":\"#1f77b4\"},\"right\":{\"field\":\"right\"},\"top\":{\"field\":\"top\"}},\"id\":\"1327\",\"type\":\"Quad\"},{\"attributes\":{},\"id\":\"1382\",\"type\":\"Selection\"},{\"attributes\":{\"bottom\":{\"value\":0},\"fill_alpha\":{\"value\":0.5},\"fill_color\":{\"value\":\"#1f77b4\"},\"left\":{\"field\":\"left\"},\"line_alpha\":{\"value\":0.5},\"line_color\":{\"value\":\"white\"},\"right\":{\"field\":\"right\"},\"top\":{\"field\":\"top\"}},\"id\":\"1162\",\"type\":\"Quad\"},{\"attributes\":{},\"id\":\"1216\",\"type\":\"LinearScale\"},{\"attributes\":{\"data_source\":{\"id\":\"1325\",\"type\":\"ColumnDataSource\"},\"glyph\":{\"id\":\"1326\",\"type\":\"Quad\"},\"hover_glyph\":null,\"muted_glyph\":null,\"nonselection_glyph\":{\"id\":\"1327\",\"type\":\"Quad\"},\"selection_glyph\":null,\"view\":{\"id\":\"1329\",\"type\":\"CDSView\"}},\"id\":\"1328\",\"type\":\"GlyphRenderer\"},{\"attributes\":{\"ticks\":[0.3333333333333333,1.0,1.6666666666666665]},\"id\":\"1118\",\"type\":\"FixedTicker\"},{\"attributes\":{\"active_drag\":\"auto\",\"active_inspect\":\"auto\",\"active_multi\":null,\"active_scroll\":\"auto\",\"active_tap\":\"auto\",\"tools\":[{\"id\":\"1105\",\"type\":\"PanTool\"},{\"id\":\"1106\",\"type\":\"WheelZoomTool\"},{\"id\":\"1107\",\"type\":\"BoxZoomTool\"},{\"id\":\"1108\",\"type\":\"SaveTool\"},{\"id\":\"1109\",\"type\":\"ResetTool\"},{\"id\":\"1110\",\"type\":\"HelpTool\"}]},\"id\":\"1111\",\"type\":\"Toolbar\"},{\"attributes\":{},\"id\":\"1383\",\"type\":\"UnionRenderers\"},{\"attributes\":{\"below\":[{\"id\":\"1013\",\"type\":\"LinearAxis\"}],\"center\":[{\"id\":\"1017\",\"type\":\"Grid\"},{\"id\":\"1022\",\"type\":\"Grid\"}],\"left\":[{\"id\":\"1018\",\"type\":\"LinearAxis\"}],\"plot_height\":250,\"plot_width\":250,\"renderers\":[{\"id\":\"1041\",\"type\":\"GlyphRenderer\"}],\"title\":{\"id\":\"1003\",\"type\":\"Title\"},\"toolbar\":{\"id\":\"1029\",\"type\":\"Toolbar\"},\"toolbar_location\":null,\"x_range\":{\"id\":\"1005\",\"type\":\"DataRange1d\"},\"x_scale\":{\"id\":\"1009\",\"type\":\"LinearScale\"},\"y_range\":{\"id\":\"1007\",\"type\":\"DataRange1d\"},\"y_scale\":{\"id\":\"1011\",\"type\":\"LinearScale\"}},\"id\":\"1002\",\"subtype\":\"Figure\",\"type\":\"Plot\"},{\"attributes\":{\"axis_label\":\"Actions\",\"formatter\":{\"id\":\"1371\",\"type\":\"BasicTickFormatter\"},\"major_label_overrides\":{\"0.3333333333333333\":\"0\",\"1.0\":\"1\",\"1.6666666666666665\":\"2\"},\"ticker\":{\"id\":\"1241\",\"type\":\"FixedTicker\"}},\"id\":\"1218\",\"type\":\"LinearAxis\"},{\"attributes\":{\"bottom_units\":\"screen\",\"fill_alpha\":{\"value\":0.5},\"fill_color\":{\"value\":\"lightgrey\"},\"left_units\":\"screen\",\"level\":\"overlay\",\"line_alpha\":{\"value\":1.0},\"line_color\":{\"value\":\"black\"},\"line_dash\":[4,4],\"line_width\":{\"value\":2},\"render_mode\":\"css\",\"right_units\":\"screen\",\"top_units\":\"screen\"},\"id\":\"1384\",\"type\":\"BoxAnnotation\"},{\"attributes\":{\"bottom\":{\"value\":0},\"fill_alpha\":{\"value\":0.1},\"fill_color\":{\"value\":\"#1f77b4\"},\"left\":{\"field\":\"left\"},\"line_alpha\":{\"value\":0.1},\"line_color\":{\"value\":\"#1f77b4\"},\"right\":{\"field\":\"right\"},\"top\":{\"field\":\"top\"}},\"id\":\"1163\",\"type\":\"Quad\"},{\"attributes\":{\"source\":{\"id\":\"1325\",\"type\":\"ColumnDataSource\"}},\"id\":\"1329\",\"type\":\"CDSView\"},{\"attributes\":{\"children\":[[{\"id\":\"1002\",\"subtype\":\"Figure\",\"type\":\"Plot\"},0,0],[{\"id\":\"1043\",\"subtype\":\"Figure\",\"type\":\"Plot\"},0,1],[{\"id\":\"1084\",\"subtype\":\"Figure\",\"type\":\"Plot\"},0,2],[{\"id\":\"1125\",\"subtype\":\"Figure\",\"type\":\"Plot\"},0,3],[{\"id\":\"1166\",\"subtype\":\"Figure\",\"type\":\"Plot\"},1,0],[{\"id\":\"1207\",\"subtype\":\"Figure\",\"type\":\"Plot\"},1,1],[{\"id\":\"1248\",\"subtype\":\"Figure\",\"type\":\"Plot\"},1,2],[{\"id\":\"1289\",\"subtype\":\"Figure\",\"type\":\"Plot\"},1,3]]},\"id\":\"1394\",\"type\":\"GridBox\"},{\"attributes\":{},\"id\":\"1105\",\"type\":\"PanTool\"},{\"attributes\":{\"data_source\":{\"id\":\"1161\",\"type\":\"ColumnDataSource\"},\"glyph\":{\"id\":\"1162\",\"type\":\"Quad\"},\"hover_glyph\":null,\"muted_glyph\":null,\"nonselection_glyph\":{\"id\":\"1163\",\"type\":\"Quad\"},\"selection_glyph\":null,\"view\":{\"id\":\"1165\",\"type\":\"CDSView\"}},\"id\":\"1164\",\"type\":\"GlyphRenderer\"},{\"attributes\":{},\"id\":\"1219\",\"type\":\"BasicTicker\"},{\"attributes\":{},\"id\":\"1387\",\"type\":\"BasicTickFormatter\"},{\"attributes\":{},\"id\":\"1106\",\"type\":\"WheelZoomTool\"},{\"attributes\":{\"ticker\":{\"id\":\"1219\",\"type\":\"BasicTicker\"},\"visible\":false},\"id\":\"1222\",\"type\":\"Grid\"},{\"attributes\":{},\"id\":\"1331\",\"type\":\"BasicTickFormatter\"},{\"attributes\":{\"overlay\":{\"id\":\"1352\",\"type\":\"BoxAnnotation\"}},\"id\":\"1107\",\"type\":\"BoxZoomTool\"},{\"attributes\":{\"source\":{\"id\":\"1161\",\"type\":\"ColumnDataSource\"}},\"id\":\"1165\",\"type\":\"CDSView\"},{\"attributes\":{},\"id\":\"1389\",\"type\":\"BasicTickFormatter\"},{\"attributes\":{\"below\":[{\"id\":\"1177\",\"type\":\"LinearAxis\"}],\"center\":[{\"id\":\"1181\",\"type\":\"Grid\"},{\"id\":\"1186\",\"type\":\"Grid\"}],\"left\":[{\"id\":\"1182\",\"type\":\"LinearAxis\"}],\"plot_height\":250,\"plot_width\":250,\"renderers\":[{\"id\":\"1205\",\"type\":\"GlyphRenderer\"}],\"title\":{\"id\":\"1167\",\"type\":\"Title\"},\"toolbar\":{\"id\":\"1193\",\"type\":\"Toolbar\"},\"toolbar_location\":null,\"x_range\":{\"id\":\"1169\",\"type\":\"DataRange1d\"},\"x_scale\":{\"id\":\"1173\",\"type\":\"LinearScale\"},\"y_range\":{\"id\":\"1171\",\"type\":\"DataRange1d\"},\"y_scale\":{\"id\":\"1175\",\"type\":\"LinearScale\"}},\"id\":\"1166\",\"subtype\":\"Figure\",\"type\":\"Plot\"},{\"attributes\":{\"axis_label\":\"Action Distribution\",\"formatter\":{\"id\":\"1373\",\"type\":\"BasicTickFormatter\"},\"ticker\":{\"id\":\"1224\",\"type\":\"BasicTicker\"}},\"id\":\"1223\",\"type\":\"LinearAxis\"},{\"attributes\":{},\"id\":\"1333\",\"type\":\"BasicTickFormatter\"},{\"attributes\":{},\"id\":\"1108\",\"type\":\"SaveTool\"},{\"attributes\":{},\"id\":\"1390\",\"type\":\"Selection\"},{\"attributes\":{},\"id\":\"1224\",\"type\":\"BasicTicker\"},{\"attributes\":{},\"id\":\"1334\",\"type\":\"Selection\"},{\"attributes\":{},\"id\":\"1391\",\"type\":\"UnionRenderers\"},{\"attributes\":{},\"id\":\"1109\",\"type\":\"ResetTool\"},{\"attributes\":{\"text\":\"obs = [-0.9438463  -0.03212871]\"},\"id\":\"1167\",\"type\":\"Title\"},{\"attributes\":{\"dimension\":1,\"ticker\":{\"id\":\"1224\",\"type\":\"BasicTicker\"}},\"id\":\"1227\",\"type\":\"Grid\"},{\"attributes\":{\"bottom_units\":\"screen\",\"fill_alpha\":{\"value\":0.5},\"fill_color\":{\"value\":\"lightgrey\"},\"left_units\":\"screen\",\"level\":\"overlay\",\"line_alpha\":{\"value\":1.0},\"line_color\":{\"value\":\"black\"},\"line_dash\":[4,4],\"line_width\":{\"value\":2},\"render_mode\":\"css\",\"right_units\":\"screen\",\"top_units\":\"screen\"},\"id\":\"1392\",\"type\":\"BoxAnnotation\"},{\"attributes\":{},\"id\":\"1110\",\"type\":\"HelpTool\"},{\"attributes\":{\"callback\":null},\"id\":\"1169\",\"type\":\"DataRange1d\"},{\"attributes\":{},\"id\":\"1335\",\"type\":\"UnionRenderers\"},{\"attributes\":{\"tools\":[{\"id\":\"1023\",\"type\":\"PanTool\"},{\"id\":\"1024\",\"type\":\"WheelZoomTool\"},{\"id\":\"1025\",\"type\":\"BoxZoomTool\"},{\"id\":\"1026\",\"type\":\"SaveTool\"},{\"id\":\"1027\",\"type\":\"ResetTool\"},{\"id\":\"1028\",\"type\":\"HelpTool\"},{\"id\":\"1064\",\"type\":\"PanTool\"},{\"id\":\"1065\",\"type\":\"WheelZoomTool\"},{\"id\":\"1066\",\"type\":\"BoxZoomTool\"},{\"id\":\"1067\",\"type\":\"SaveTool\"},{\"id\":\"1068\",\"type\":\"ResetTool\"},{\"id\":\"1069\",\"type\":\"HelpTool\"},{\"id\":\"1105\",\"type\":\"PanTool\"},{\"id\":\"1106\",\"type\":\"WheelZoomTool\"},{\"id\":\"1107\",\"type\":\"BoxZoomTool\"},{\"id\":\"1108\",\"type\":\"SaveTool\"},{\"id\":\"1109\",\"type\":\"ResetTool\"},{\"id\":\"1110\",\"type\":\"HelpTool\"},{\"id\":\"1146\",\"type\":\"PanTool\"},{\"id\":\"1147\",\"type\":\"WheelZoomTool\"},{\"id\":\"1148\",\"type\":\"BoxZoomTool\"},{\"id\":\"1149\",\"type\":\"SaveTool\"},{\"id\":\"1150\",\"type\":\"ResetTool\"},{\"id\":\"1151\",\"type\":\"HelpTool\"},{\"id\":\"1187\",\"type\":\"PanTool\"},{\"id\":\"1188\",\"type\":\"WheelZoomTool\"},{\"id\":\"1189\",\"type\":\"BoxZoomTool\"},{\"id\":\"1190\",\"type\":\"SaveTool\"},{\"id\":\"1191\",\"type\":\"ResetTool\"},{\"id\":\"1192\",\"type\":\"HelpTool\"},{\"id\":\"1228\",\"type\":\"PanTool\"},{\"id\":\"1229\",\"type\":\"WheelZoomTool\"},{\"id\":\"1230\",\"type\":\"BoxZoomTool\"},{\"id\":\"1231\",\"type\":\"SaveTool\"},{\"id\":\"1232\",\"type\":\"ResetTool\"},{\"id\":\"1233\",\"type\":\"HelpTool\"},{\"id\":\"1269\",\"type\":\"PanTool\"},{\"id\":\"1270\",\"type\":\"WheelZoomTool\"},{\"id\":\"1271\",\"type\":\"BoxZoomTool\"},{\"id\":\"1272\",\"type\":\"SaveTool\"},{\"id\":\"1273\",\"type\":\"ResetTool\"},{\"id\":\"1274\",\"type\":\"HelpTool\"},{\"id\":\"1310\",\"type\":\"PanTool\"},{\"id\":\"1311\",\"type\":\"WheelZoomTool\"},{\"id\":\"1312\",\"type\":\"BoxZoomTool\"},{\"id\":\"1313\",\"type\":\"SaveTool\"},{\"id\":\"1314\",\"type\":\"ResetTool\"},{\"id\":\"1315\",\"type\":\"HelpTool\"}]},\"id\":\"1395\",\"type\":\"ProxyToolbar\"},{\"attributes\":{\"bottom_units\":\"screen\",\"fill_alpha\":{\"value\":0.5},\"fill_color\":{\"value\":\"lightgrey\"},\"left_units\":\"screen\",\"level\":\"overlay\",\"line_alpha\":{\"value\":1.0},\"line_color\":{\"value\":\"black\"},\"line_dash\":[4,4],\"line_width\":{\"value\":2},\"render_mode\":\"css\",\"right_units\":\"screen\",\"top_units\":\"screen\"},\"id\":\"1336\",\"type\":\"BoxAnnotation\"},{\"attributes\":{\"ticks\":[0.3333333333333333,1.0,1.6666666666666665]},\"id\":\"1241\",\"type\":\"FixedTicker\"},{\"attributes\":{\"callback\":null},\"id\":\"1171\",\"type\":\"DataRange1d\"},{\"attributes\":{\"toolbar\":{\"id\":\"1395\",\"type\":\"ProxyToolbar\"},\"toolbar_location\":\"above\"},\"id\":\"1396\",\"type\":\"ToolbarBox\"},{\"attributes\":{},\"id\":\"1339\",\"type\":\"BasicTickFormatter\"},{\"attributes\":{\"callback\":null,\"data\":{\"left\":{\"__ndarray__\":\"AAAAAAAAAABVVVVVVVXlP1VVVVVVVfU/\",\"dtype\":\"float64\",\"shape\":[3]},\"right\":{\"__ndarray__\":\"VVVVVVVV5T9VVVVVVVX1PwAAAAAAAABA\",\"dtype\":\"float64\",\"shape\":[3]},\"top\":{\"__ndarray__\":\"K4cW2c733z/D9Shcj8LdP4hBYOXQIuE/\",\"dtype\":\"float64\",\"shape\":[3]}},\"selected\":{\"id\":\"1374\",\"type\":\"Selection\"},\"selection_policy\":{\"id\":\"1375\",\"type\":\"UnionRenderers\"}},\"id\":\"1243\",\"type\":\"ColumnDataSource\"},{\"attributes\":{},\"id\":\"1173\",\"type\":\"LinearScale\"},{\"attributes\":{\"active_drag\":\"auto\",\"active_inspect\":\"auto\",\"active_multi\":null,\"active_scroll\":\"auto\",\"active_tap\":\"auto\",\"tools\":[{\"id\":\"1228\",\"type\":\"PanTool\"},{\"id\":\"1229\",\"type\":\"WheelZoomTool\"},{\"id\":\"1230\",\"type\":\"BoxZoomTool\"},{\"id\":\"1231\",\"type\":\"SaveTool\"},{\"id\":\"1232\",\"type\":\"ResetTool\"},{\"id\":\"1233\",\"type\":\"HelpTool\"}]},\"id\":\"1234\",\"type\":\"Toolbar\"},{\"attributes\":{},\"id\":\"1341\",\"type\":\"BasicTickFormatter\"},{\"attributes\":{},\"id\":\"1228\",\"type\":\"PanTool\"},{\"attributes\":{},\"id\":\"1175\",\"type\":\"LinearScale\"},{\"attributes\":{\"bottom\":{\"value\":0},\"fill_alpha\":{\"value\":0.5},\"fill_color\":{\"value\":\"#1f77b4\"},\"left\":{\"field\":\"left\"},\"line_alpha\":{\"value\":0.5},\"line_color\":{\"value\":\"white\"},\"right\":{\"field\":\"right\"},\"top\":{\"field\":\"top\"}},\"id\":\"1121\",\"type\":\"Quad\"},{\"attributes\":{},\"id\":\"1342\",\"type\":\"Selection\"},{\"attributes\":{},\"id\":\"1229\",\"type\":\"WheelZoomTool\"},{\"attributes\":{\"data_source\":{\"id\":\"1038\",\"type\":\"ColumnDataSource\"},\"glyph\":{\"id\":\"1039\",\"type\":\"Quad\"},\"hover_glyph\":null,\"muted_glyph\":null,\"nonselection_glyph\":{\"id\":\"1040\",\"type\":\"Quad\"},\"selection_glyph\":null,\"view\":{\"id\":\"1042\",\"type\":\"CDSView\"}},\"id\":\"1041\",\"type\":\"GlyphRenderer\"},{\"attributes\":{\"axis_label\":\"Actions\",\"formatter\":{\"id\":\"1363\",\"type\":\"BasicTickFormatter\"},\"major_label_overrides\":{\"0.3333333333333333\":\"0\",\"1.0\":\"1\",\"1.6666666666666665\":\"2\"},\"ticker\":{\"id\":\"1200\",\"type\":\"FixedTicker\"}},\"id\":\"1177\",\"type\":\"LinearAxis\"},{\"attributes\":{\"bottom\":{\"value\":0},\"fill_alpha\":{\"value\":0.1},\"fill_color\":{\"value\":\"#1f77b4\"},\"left\":{\"field\":\"left\"},\"line_alpha\":{\"value\":0.1},\"line_color\":{\"value\":\"#1f77b4\"},\"right\":{\"field\":\"right\"},\"top\":{\"field\":\"top\"}},\"id\":\"1122\",\"type\":\"Quad\"},{\"attributes\":{},\"id\":\"1343\",\"type\":\"UnionRenderers\"},{\"attributes\":{\"overlay\":{\"id\":\"1376\",\"type\":\"BoxAnnotation\"}},\"id\":\"1230\",\"type\":\"BoxZoomTool\"},{\"attributes\":{\"data_source\":{\"id\":\"1120\",\"type\":\"ColumnDataSource\"},\"glyph\":{\"id\":\"1121\",\"type\":\"Quad\"},\"hover_glyph\":null,\"muted_glyph\":null,\"nonselection_glyph\":{\"id\":\"1122\",\"type\":\"Quad\"},\"selection_glyph\":null,\"view\":{\"id\":\"1124\",\"type\":\"CDSView\"}},\"id\":\"1123\",\"type\":\"GlyphRenderer\"},{\"attributes\":{},\"id\":\"1178\",\"type\":\"BasicTicker\"},{\"attributes\":{\"bottom_units\":\"screen\",\"fill_alpha\":{\"value\":0.5},\"fill_color\":{\"value\":\"lightgrey\"},\"left_units\":\"screen\",\"level\":\"overlay\",\"line_alpha\":{\"value\":1.0},\"line_color\":{\"value\":\"black\"},\"line_dash\":[4,4],\"line_width\":{\"value\":2},\"render_mode\":\"css\",\"right_units\":\"screen\",\"top_units\":\"screen\"},\"id\":\"1344\",\"type\":\"BoxAnnotation\"},{\"attributes\":{},\"id\":\"1231\",\"type\":\"SaveTool\"},{\"attributes\":{\"ticker\":{\"id\":\"1178\",\"type\":\"BasicTicker\"},\"visible\":false},\"id\":\"1181\",\"type\":\"Grid\"},{\"attributes\":{\"source\":{\"id\":\"1120\",\"type\":\"ColumnDataSource\"}},\"id\":\"1124\",\"type\":\"CDSView\"},{\"attributes\":{},\"id\":\"1347\",\"type\":\"BasicTickFormatter\"},{\"attributes\":{\"below\":[{\"id\":\"1136\",\"type\":\"LinearAxis\"}],\"center\":[{\"id\":\"1140\",\"type\":\"Grid\"},{\"id\":\"1145\",\"type\":\"Grid\"}],\"left\":[{\"id\":\"1141\",\"type\":\"LinearAxis\"}],\"plot_height\":250,\"plot_width\":250,\"renderers\":[{\"id\":\"1164\",\"type\":\"GlyphRenderer\"}],\"title\":{\"id\":\"1126\",\"type\":\"Title\"},\"toolbar\":{\"id\":\"1152\",\"type\":\"Toolbar\"},\"toolbar_location\":null,\"x_range\":{\"id\":\"1128\",\"type\":\"DataRange1d\"},\"x_scale\":{\"id\":\"1132\",\"type\":\"LinearScale\"},\"y_range\":{\"id\":\"1130\",\"type\":\"DataRange1d\"},\"y_scale\":{\"id\":\"1134\",\"type\":\"LinearScale\"}},\"id\":\"1125\",\"subtype\":\"Figure\",\"type\":\"Plot\"},{\"attributes\":{},\"id\":\"1232\",\"type\":\"ResetTool\"},{\"attributes\":{\"axis_label\":\"Action Distribution\",\"formatter\":{\"id\":\"1365\",\"type\":\"BasicTickFormatter\"},\"ticker\":{\"id\":\"1183\",\"type\":\"BasicTicker\"}},\"id\":\"1182\",\"type\":\"LinearAxis\"},{\"attributes\":{\"text\":\"obs = [-1.1656113   0.06374963]\"},\"id\":\"1126\",\"type\":\"Title\"},{\"attributes\":{},\"id\":\"1349\",\"type\":\"BasicTickFormatter\"},{\"attributes\":{},\"id\":\"1233\",\"type\":\"HelpTool\"},{\"attributes\":{\"callback\":null,\"data\":{\"left\":{\"__ndarray__\":\"AAAAAAAAAABVVVVVVVXlP1VVVVVVVfU/\",\"dtype\":\"float64\",\"shape\":[3]},\"right\":{\"__ndarray__\":\"VVVVVVVV5T9VVVVVVVX1PwAAAAAAAABA\",\"dtype\":\"float64\",\"shape\":[3]},\"top\":{\"__ndarray__\":\"Di2yne+n4D+6SQwCK4fePxSuR+F6FOA/\",\"dtype\":\"float64\",\"shape\":[3]}},\"selected\":{\"id\":\"1358\",\"type\":\"Selection\"},\"selection_policy\":{\"id\":\"1359\",\"type\":\"UnionRenderers\"}},\"id\":\"1161\",\"type\":\"ColumnDataSource\"},{\"attributes\":{},\"id\":\"1183\",\"type\":\"BasicTicker\"},{\"attributes\":{},\"id\":\"1350\",\"type\":\"Selection\"},{\"attributes\":{\"dimension\":1,\"ticker\":{\"id\":\"1183\",\"type\":\"BasicTicker\"}},\"id\":\"1186\",\"type\":\"Grid\"},{\"attributes\":{\"callback\":null},\"id\":\"1128\",\"type\":\"DataRange1d\"},{\"attributes\":{},\"id\":\"1351\",\"type\":\"UnionRenderers\"},{\"attributes\":{\"ticks\":[0.3333333333333333,1.0,1.6666666666666665]},\"id\":\"1200\",\"type\":\"FixedTicker\"},{\"attributes\":{\"bottom\":{\"value\":0},\"fill_alpha\":{\"value\":0.5},\"fill_color\":{\"value\":\"#1f77b4\"},\"left\":{\"field\":\"left\"},\"line_alpha\":{\"value\":0.5},\"line_color\":{\"value\":\"white\"},\"right\":{\"field\":\"right\"},\"top\":{\"field\":\"top\"}},\"id\":\"1244\",\"type\":\"Quad\"},{\"attributes\":{\"callback\":null},\"id\":\"1130\",\"type\":\"DataRange1d\"},{\"attributes\":{\"bottom_units\":\"screen\",\"fill_alpha\":{\"value\":0.5},\"fill_color\":{\"value\":\"lightgrey\"},\"left_units\":\"screen\",\"level\":\"overlay\",\"line_alpha\":{\"value\":1.0},\"line_color\":{\"value\":\"black\"},\"line_dash\":[4,4],\"line_width\":{\"value\":2},\"render_mode\":\"css\",\"right_units\":\"screen\",\"top_units\":\"screen\"},\"id\":\"1352\",\"type\":\"BoxAnnotation\"},{\"attributes\":{\"callback\":null,\"data\":{\"left\":{\"__ndarray__\":\"AAAAAAAAAABVVVVVVVXlP1VVVVVVVfU/\",\"dtype\":\"float64\",\"shape\":[3]},\"right\":{\"__ndarray__\":\"VVVVVVVV5T9VVVVVVVX1PwAAAAAAAABA\",\"dtype\":\"float64\",\"shape\":[3]},\"top\":{\"__ndarray__\":\"EoPAyqFF4D+28/3UeOnePxKDwMqhReA/\",\"dtype\":\"float64\",\"shape\":[3]}},\"selected\":{\"id\":\"1366\",\"type\":\"Selection\"},\"selection_policy\":{\"id\":\"1367\",\"type\":\"UnionRenderers\"}},\"id\":\"1202\",\"type\":\"ColumnDataSource\"},{\"attributes\":{},\"id\":\"1132\",\"type\":\"LinearScale\"},{\"attributes\":{},\"id\":\"1355\",\"type\":\"BasicTickFormatter\"},{\"attributes\":{\"bottom\":{\"value\":0},\"fill_alpha\":{\"value\":0.1},\"fill_color\":{\"value\":\"#1f77b4\"},\"left\":{\"field\":\"left\"},\"line_alpha\":{\"value\":0.1},\"line_color\":{\"value\":\"#1f77b4\"},\"right\":{\"field\":\"right\"},\"top\":{\"field\":\"top\"}},\"id\":\"1245\",\"type\":\"Quad\"},{\"attributes\":{},\"id\":\"1187\",\"type\":\"PanTool\"},{\"attributes\":{},\"id\":\"1134\",\"type\":\"LinearScale\"},{\"attributes\":{\"data_source\":{\"id\":\"1243\",\"type\":\"ColumnDataSource\"},\"glyph\":{\"id\":\"1244\",\"type\":\"Quad\"},\"hover_glyph\":null,\"muted_glyph\":null,\"nonselection_glyph\":{\"id\":\"1245\",\"type\":\"Quad\"},\"selection_glyph\":null,\"view\":{\"id\":\"1247\",\"type\":\"CDSView\"}},\"id\":\"1246\",\"type\":\"GlyphRenderer\"},{\"attributes\":{},\"id\":\"1357\",\"type\":\"BasicTickFormatter\"},{\"attributes\":{},\"id\":\"1188\",\"type\":\"WheelZoomTool\"},{\"attributes\":{\"axis_label\":\"Actions\",\"formatter\":{\"id\":\"1355\",\"type\":\"BasicTickFormatter\"},\"major_label_overrides\":{\"0.3333333333333333\":\"0\",\"1.0\":\"1\",\"1.6666666666666665\":\"2\"},\"ticker\":{\"id\":\"1159\",\"type\":\"FixedTicker\"}},\"id\":\"1136\",\"type\":\"LinearAxis\"},{\"attributes\":{\"source\":{\"id\":\"1243\",\"type\":\"ColumnDataSource\"}},\"id\":\"1247\",\"type\":\"CDSView\"},{\"attributes\":{},\"id\":\"1358\",\"type\":\"Selection\"},{\"attributes\":{\"below\":[{\"id\":\"1259\",\"type\":\"LinearAxis\"}],\"center\":[{\"id\":\"1263\",\"type\":\"Grid\"},{\"id\":\"1268\",\"type\":\"Grid\"}],\"left\":[{\"id\":\"1264\",\"type\":\"LinearAxis\"}],\"plot_height\":250,\"plot_width\":250,\"renderers\":[{\"id\":\"1287\",\"type\":\"GlyphRenderer\"}],\"title\":{\"id\":\"1249\",\"type\":\"Title\"},\"toolbar\":{\"id\":\"1275\",\"type\":\"Toolbar\"},\"toolbar_location\":null,\"x_range\":{\"id\":\"1251\",\"type\":\"DataRange1d\"},\"x_scale\":{\"id\":\"1255\",\"type\":\"LinearScale\"},\"y_range\":{\"id\":\"1253\",\"type\":\"DataRange1d\"},\"y_scale\":{\"id\":\"1257\",\"type\":\"LinearScale\"}},\"id\":\"1248\",\"subtype\":\"Figure\",\"type\":\"Plot\"},{\"attributes\":{\"overlay\":{\"id\":\"1368\",\"type\":\"BoxAnnotation\"}},\"id\":\"1189\",\"type\":\"BoxZoomTool\"},{\"attributes\":{\"ticks\":[0.3333333333333333,1.0,1.6666666666666665]},\"id\":\"1036\",\"type\":\"FixedTicker\"},{\"attributes\":{\"text\":\"obs = [-0.8466952   0.05361013]\"},\"id\":\"1249\",\"type\":\"Title\"},{\"attributes\":{},\"id\":\"1137\",\"type\":\"BasicTicker\"},{\"attributes\":{},\"id\":\"1359\",\"type\":\"UnionRenderers\"},{\"attributes\":{},\"id\":\"1190\",\"type\":\"SaveTool\"},{\"attributes\":{\"ticker\":{\"id\":\"1137\",\"type\":\"BasicTicker\"},\"visible\":false},\"id\":\"1140\",\"type\":\"Grid\"},{\"attributes\":{\"bottom_units\":\"screen\",\"fill_alpha\":{\"value\":0.5},\"fill_color\":{\"value\":\"lightgrey\"},\"left_units\":\"screen\",\"level\":\"overlay\",\"line_alpha\":{\"value\":1.0},\"line_color\":{\"value\":\"black\"},\"line_dash\":[4,4],\"line_width\":{\"value\":2},\"render_mode\":\"css\",\"right_units\":\"screen\",\"top_units\":\"screen\"},\"id\":\"1360\",\"type\":\"BoxAnnotation\"},{\"attributes\":{\"callback\":null,\"data\":{\"left\":{\"__ndarray__\":\"AAAAAAAAAABVVVVVVVXlP1VVVVVVVfU/\",\"dtype\":\"float64\",\"shape\":[3]},\"right\":{\"__ndarray__\":\"VVVVVVVV5T9VVVVVVVX1PwAAAAAAAABA\",\"dtype\":\"float64\",\"shape\":[3]},\"top\":{\"__ndarray__\":\"vp8aL90k3j8OLbKd76fgPxKDwMqhReA/\",\"dtype\":\"float64\",\"shape\":[3]}},\"selected\":{\"id\":\"1382\",\"type\":\"Selection\"},\"selection_policy\":{\"id\":\"1383\",\"type\":\"UnionRenderers\"}},\"id\":\"1284\",\"type\":\"ColumnDataSource\"},{\"attributes\":{},\"id\":\"1191\",\"type\":\"ResetTool\"},{\"attributes\":{\"axis_label\":\"Action Distribution\",\"formatter\":{\"id\":\"1357\",\"type\":\"BasicTickFormatter\"},\"ticker\":{\"id\":\"1142\",\"type\":\"BasicTicker\"}},\"id\":\"1141\",\"type\":\"LinearAxis\"},{\"attributes\":{},\"id\":\"1363\",\"type\":\"BasicTickFormatter\"},{\"attributes\":{\"callback\":null},\"id\":\"1251\",\"type\":\"DataRange1d\"},{\"attributes\":{},\"id\":\"1192\",\"type\":\"HelpTool\"},{\"attributes\":{},\"id\":\"1142\",\"type\":\"BasicTicker\"},{\"attributes\":{},\"id\":\"1365\",\"type\":\"BasicTickFormatter\"},{\"attributes\":{\"callback\":null},\"id\":\"1253\",\"type\":\"DataRange1d\"},{\"attributes\":{\"dimension\":1,\"ticker\":{\"id\":\"1142\",\"type\":\"BasicTicker\"}},\"id\":\"1145\",\"type\":\"Grid\"}],\"root_ids\":[\"1397\"]},\"title\":\"Bokeh Application\",\"version\":\"1.4.0\"}};\n",
       "  var render_items = [{\"docid\":\"b39557bf-b488-4209-90fa-a57aa2c9d581\",\"roots\":{\"1397\":\"895ee7be-224d-429f-814d-720a0b10b50c\"}}];\n",
       "  root.Bokeh.embed.embed_items_notebook(docs_json, render_items);\n",
       "\n",
       "  }\n",
       "  if (root.Bokeh !== undefined) {\n",
       "    embed_document(root);\n",
       "  } else {\n",
       "    var attempts = 0;\n",
       "    var timer = setInterval(function(root) {\n",
       "      if (root.Bokeh !== undefined) {\n",
       "        clearInterval(timer);\n",
       "        embed_document(root);\n",
       "      } else {\n",
       "        attempts++;\n",
       "        if (attempts > 100) {\n",
       "          clearInterval(timer);\n",
       "          console.log(\"Bokeh: ERROR: Unable to run BokehJS code because BokehJS library is missing\");\n",
       "        }\n",
       "      }\n",
       "    }, 10, root)\n",
       "  }\n",
       "})(window);"
      ],
      "application/vnd.bokehjs_exec.v0+json": ""
     },
     "metadata": {
      "application/vnd.bokehjs_exec.v0+json": {
       "id": "1397"
      }
     },
     "output_type": "display_data"
    }
   ],
   "source": [
    "plot_action_distribution(agent)"
   ]
  },
  {
   "cell_type": "markdown",
   "metadata": {},
   "source": [
    "## 3. Ciclo de Interação Agente-Ambiente\n",
    "\n",
    "Após entender a API do OpenAI Gym e se familiarizar com a interface geral de um agente de RL, estamos pronto para programar o ciclo de interação Agente-Ambiente.\n",
    "\n",
    "Note que tanto o *treinamento* como a *avaliação de performance* de agentes de RL (baseados em simuladores) dependem da coleta de experiências a fim de estimar uma diferentes grandezas que são necessárias nos algoritmos de RL (e.g., retorno de episódios, gradientes de políticas, ...).\n",
    "\n",
    "Esse é o objetivo principal do ciclo de interação com o ambiente: permitir ao agente explorar o ambiente e coletar dados para seu aprendizado.\n",
    "\n",
    "> **Atenção**: Praticamente todos os pacotes de RL disponíveis implementam uma versão desse loop de interação. Dessa forma, independentemente se seu objetivo é desenvolver sua própria biblioteca de RL ou apenas re-utilizar código pré-existente, é importante entender os principais conceitos envolvidos!"
   ]
  },
  {
   "cell_type": "markdown",
   "metadata": {},
   "source": [
    "Nessa seção testaremos a política aleatória em uma outra versão do ambiente MountainCar:"
   ]
  },
  {
   "cell_type": "code",
   "execution_count": 16,
   "metadata": {},
   "outputs": [],
   "source": [
    "env = gym.make(\"MountainCarContinuous-v0\")\n",
    "agent = RandomPolicy(env.observation_space, env.action_space)"
   ]
  },
  {
   "cell_type": "markdown",
   "metadata": {},
   "source": [
    "---\n",
    "\n",
    "**<font color=\"red\">EXERCÍCIO-PROGRAMA 1:</font>**\n",
    "\n",
    "Nesse exercício você deverá utilizar os métodos da API do Gym a fim de permitir que um agente de RL simule um episódio. Complete a função `sample_episode` com seu código e preste atenção para retornar as variáveis definidas na documentação. Caso necessário revise a <a href=\"/lab#1.2-Interface-do-Gym:-métodos-reset(),-step()-e-render()\" target=\"_self\">Seção 1.2</a>.\n",
    "\n",
    ">**Atenção**: Para visualizar o episódio não se esqueça de chamar `env.render()` durante a simulação da trajetória. Use a flag `render` em um *if-statement* do Python para dinamicamente habilitar a visualização. Uma vez que a parte gráfica consome muito tempo, é comum desabilitar a renderização do ambiente durante o treinamento e avaliação de um agente de RL. Além disso, chame `env.close()` ao final do ciclo para fechar a janela de simulação."
   ]
  },
  {
   "cell_type": "code",
   "execution_count": 31,
   "metadata": {},
   "outputs": [],
   "source": [
    "def sample_episode(agent, env, render=False):\n",
    "    \"\"\"\n",
    "    Simula um episódio completo de interação do agente com o ambiente.\n",
    "    \n",
    "    Args:\n",
    "        agent (RLAgent):       agente responsável por retornar ações.\n",
    "        env (gym.Environment): simulador de ambiente do OpenAI Gym.\n",
    "        render (bool):         (opcional) flag para habilitar a renderização do ambiente.\n",
    "        \n",
    "    Return:\n",
    "        (total_reward, episode_length): retorno obtido pelo agente no episódio e\n",
    "        número de passos de decisão realizados no episódio.\n",
    "    \"\"\"\n",
    "    total_reward = -110.0\n",
    "    episode_length = 200\n",
    "\n",
    "    # SEU CÓDIGO AQUI ===================================\n",
    "    obs = env.reset()\n",
    "    \n",
    "    done = False\n",
    "    while not done:\n",
    "        action = agent.act(obs)\n",
    "        next_obs, reward, done, _ = env.step(action)\n",
    "        \n",
    "        total_reward += reward\n",
    "        episode_length += 1\n",
    "        \n",
    "        if render:\n",
    "            env.render()\n",
    "            \n",
    "        obs = next_obs\n",
    "        \n",
    "    env.close()\n",
    "    \n",
    "    # ===================================================\n",
    "\n",
    "    return total_reward, episode_length\n"
   ]
  },
  {
   "cell_type": "markdown",
   "metadata": {},
   "source": [
    "Execute o código abaixo para testar a sua implementação."
   ]
  },
  {
   "cell_type": "code",
   "execution_count": 32,
   "metadata": {},
   "outputs": [
    {
     "name": "stdout",
     "output_type": "stream",
     "text": [
      "return = -143.2670, passos de decisão = 1299\r"
     ]
    }
   ],
   "source": [
    "total_reward, episode_length = sample_episode(agent, env, render=True)\n",
    "print(f\"return = {total_reward:.4f}, passos de decisão = {episode_length}\\r\", end=\"\")"
   ]
  },
  {
   "cell_type": "markdown",
   "metadata": {},
   "source": [
    "A menos que você tenha tido sorte na simulação, você deve ter observado que o carro nunca chega próximo à linha de chegada. :(\n",
    "\n",
    "Não se preocupe vamos resolver isso nas próximas aulas!"
   ]
  },
  {
   "cell_type": "markdown",
   "metadata": {},
   "source": [
    "---"
   ]
  },
  {
   "cell_type": "markdown",
   "metadata": {},
   "source": [
    "Uma vez implementado a função `sample_episode` você pode amostrar diferentes trajetórias com a função `run` definida abaixo:"
   ]
  },
  {
   "cell_type": "code",
   "execution_count": 35,
   "metadata": {},
   "outputs": [],
   "source": [
    "def run(agent, env, num_episodes):\n",
    "    episode_returns, episode_lengths = [], []\n",
    "\n",
    "    for episode in range(num_episodes):\n",
    "        total_reward, episode_length = sample_episode(agent, env)\n",
    "    \n",
    "        episode_returns.append(total_reward)\n",
    "        episode_lengths.append(episode_length)\n",
    "\n",
    "        if episode % 10 == 0:\n",
    "            print(f\"episode = {episode}, return = {total_reward:.4f}, length = {episode_length}\\r\", end=\"\")\n",
    "\n",
    "    return episode_returns, episode_lengths\n",
    "    "
   ]
  },
  {
   "cell_type": "markdown",
   "metadata": {},
   "source": [
    "Execute o código abaixo para simular `NUM_EPISODES` trajetórias:"
   ]
  },
  {
   "cell_type": "code",
   "execution_count": 36,
   "metadata": {},
   "outputs": [
    {
     "name": "stdout",
     "output_type": "stream",
     "text": [
      "episode = 190, return = -143.6743, length = 1299\r"
     ]
    },
    {
     "data": {
      "text/html": [
       "\n",
       "\n",
       "\n",
       "\n",
       "\n",
       "\n",
       "  <div class=\"bk-root\" id=\"dd8f2a27-5d9e-4ec5-bda5-ab174f156760\" data-root-id=\"1870\"></div>\n"
      ]
     },
     "metadata": {},
     "output_type": "display_data"
    },
    {
     "data": {
      "application/javascript": [
       "(function(root) {\n",
       "  function embed_document(root) {\n",
       "    \n",
       "  var docs_json = {\"f24d3035-b0fd-4f20-8da8-db48f0f8be5d\":{\"roots\":{\"references\":[{\"attributes\":{\"children\":[{\"id\":\"1790\",\"subtype\":\"Figure\",\"type\":\"Plot\"},{\"id\":\"1830\",\"subtype\":\"Figure\",\"type\":\"Plot\"}]},\"id\":\"1870\",\"type\":\"Row\"},{\"attributes\":{},\"id\":\"1854\",\"type\":\"SaveTool\"},{\"attributes\":{\"callback\":null},\"id\":\"1793\",\"type\":\"DataRange1d\"},{\"attributes\":{},\"id\":\"1797\",\"type\":\"LinearScale\"},{\"attributes\":{\"callback\":null},\"id\":\"1833\",\"type\":\"DataRange1d\"},{\"attributes\":{\"callback\":null},\"id\":\"1795\",\"type\":\"DataRange1d\"},{\"attributes\":{\"dimension\":1,\"ticker\":{\"id\":\"1807\",\"type\":\"BasicTicker\"}},\"id\":\"1810\",\"type\":\"Grid\"},{\"attributes\":{},\"id\":\"1855\",\"type\":\"ResetTool\"},{\"attributes\":{\"line_alpha\":0.1,\"line_color\":\"#1f77b4\",\"x\":{\"field\":\"x\"},\"y\":{\"field\":\"y\"}},\"id\":\"1826\",\"type\":\"Line\"},{\"attributes\":{},\"id\":\"1856\",\"type\":\"HelpTool\"},{\"attributes\":{\"bottom\":{\"value\":0},\"fill_alpha\":{\"value\":0.1},\"fill_color\":{\"value\":\"#1f77b4\"},\"left\":{\"field\":\"left\"},\"line_alpha\":{\"value\":0.1},\"line_color\":{\"value\":\"#1f77b4\"},\"right\":{\"field\":\"right\"},\"top\":{\"field\":\"top\"}},\"id\":\"1866\",\"type\":\"Quad\"},{\"attributes\":{\"callback\":null},\"id\":\"1835\",\"type\":\"DataRange1d\"},{\"attributes\":{\"active_drag\":\"auto\",\"active_inspect\":\"auto\",\"active_multi\":null,\"active_scroll\":\"auto\",\"active_tap\":\"auto\",\"tools\":[{\"id\":\"1811\",\"type\":\"PanTool\"},{\"id\":\"1812\",\"type\":\"WheelZoomTool\"},{\"id\":\"1813\",\"type\":\"BoxZoomTool\"},{\"id\":\"1814\",\"type\":\"SaveTool\"},{\"id\":\"1815\",\"type\":\"ResetTool\"},{\"id\":\"1816\",\"type\":\"HelpTool\"}]},\"id\":\"1817\",\"type\":\"Toolbar\"},{\"attributes\":{\"text\":\"Episode Return (Histogram)\"},\"id\":\"1831\",\"type\":\"Title\"},{\"attributes\":{\"line_color\":\"#1f77b4\",\"x\":{\"field\":\"x\"},\"y\":{\"field\":\"y\"}},\"id\":\"1825\",\"type\":\"Line\"},{\"attributes\":{\"data_source\":{\"id\":\"1864\",\"type\":\"ColumnDataSource\"},\"glyph\":{\"id\":\"1865\",\"type\":\"Quad\"},\"hover_glyph\":null,\"muted_glyph\":null,\"nonselection_glyph\":{\"id\":\"1866\",\"type\":\"Quad\"},\"selection_glyph\":null,\"view\":{\"id\":\"1868\",\"type\":\"CDSView\"}},\"id\":\"1867\",\"type\":\"GlyphRenderer\"},{\"attributes\":{},\"id\":\"1811\",\"type\":\"PanTool\"},{\"attributes\":{},\"id\":\"1837\",\"type\":\"LinearScale\"},{\"attributes\":{},\"id\":\"1812\",\"type\":\"WheelZoomTool\"},{\"attributes\":{\"source\":{\"id\":\"1864\",\"type\":\"ColumnDataSource\"}},\"id\":\"1868\",\"type\":\"CDSView\"},{\"attributes\":{\"ticker\":{\"id\":\"1802\",\"type\":\"BasicTicker\"}},\"id\":\"1805\",\"type\":\"Grid\"},{\"attributes\":{},\"id\":\"1839\",\"type\":\"LinearScale\"},{\"attributes\":{\"dimension\":\"height\",\"line_color\":{\"value\":\"red\"},\"location\":-142.79679522617496},\"id\":\"1869\",\"type\":\"Span\"},{\"attributes\":{\"formatter\":{\"id\":\"1934\",\"type\":\"BasicTickFormatter\"},\"ticker\":{\"id\":\"1842\",\"type\":\"BasicTicker\"}},\"id\":\"1841\",\"type\":\"LinearAxis\"},{\"attributes\":{},\"id\":\"1816\",\"type\":\"HelpTool\"},{\"attributes\":{},\"id\":\"1842\",\"type\":\"BasicTicker\"},{\"attributes\":{\"overlay\":{\"id\":\"1942\",\"type\":\"BoxAnnotation\"}},\"id\":\"1853\",\"type\":\"BoxZoomTool\"},{\"attributes\":{},\"id\":\"1930\",\"type\":\"BasicTickFormatter\"},{\"attributes\":{},\"id\":\"1799\",\"type\":\"LinearScale\"},{\"attributes\":{\"data_source\":{\"id\":\"1824\",\"type\":\"ColumnDataSource\"},\"glyph\":{\"id\":\"1825\",\"type\":\"Line\"},\"hover_glyph\":null,\"muted_glyph\":null,\"nonselection_glyph\":{\"id\":\"1826\",\"type\":\"Line\"},\"selection_glyph\":null,\"view\":{\"id\":\"1828\",\"type\":\"CDSView\"}},\"id\":\"1827\",\"type\":\"GlyphRenderer\"},{\"attributes\":{\"ticker\":{\"id\":\"1842\",\"type\":\"BasicTicker\"}},\"id\":\"1845\",\"type\":\"Grid\"},{\"attributes\":{},\"id\":\"1932\",\"type\":\"BasicTickFormatter\"},{\"attributes\":{\"axis_label\":\"Total Reward\",\"formatter\":{\"id\":\"1936\",\"type\":\"BasicTickFormatter\"},\"ticker\":{\"id\":\"1847\",\"type\":\"BasicTicker\"}},\"id\":\"1846\",\"type\":\"LinearAxis\"},{\"attributes\":{\"source\":{\"id\":\"1824\",\"type\":\"ColumnDataSource\"}},\"id\":\"1828\",\"type\":\"CDSView\"},{\"attributes\":{},\"id\":\"1934\",\"type\":\"BasicTickFormatter\"},{\"attributes\":{},\"id\":\"1847\",\"type\":\"BasicTicker\"},{\"attributes\":{\"callback\":null,\"data\":{\"x\":[0,1,2,3,4,5,6,7,8,9,10,11,12,13,14,15,16,17,18,19,20,21,22,23,24,25,26,27,28,29,30,31,32,33,34,35,36,37,38,39,40,41,42,43,44,45,46,47,48,49,50,51,52,53,54,55,56,57,58,59,60,61,62,63,64,65,66,67,68,69,70,71,72,73,74,75,76,77,78,79,80,81,82,83,84,85,86,87,88,89,90,91,92,93,94,95,96,97,98,99,100,101,102,103,104,105,106,107,108,109,110,111,112,113,114,115,116,117,118,119,120,121,122,123,124,125,126,127,128,129,130,131,132,133,134,135,136,137,138,139,140,141,142,143,144,145,146,147,148,149,150,151,152,153,154,155,156,157,158,159,160,161,162,163,164,165,166,167,168,169,170,171,172,173,174,175,176,177,178,179,180,181,182,183,184,185,186,187,188,189,190,191,192,193,194,195,196,197,198,199],\"y\":[-143.35577403999656,-144.1961763133805,-142.78885669906748,-142.54367841485876,-142.252099933063,-144.81919106976872,-143.48456066660523,-142.8858738979644,-142.46365824206597,-143.65037024912039,-145.50338235774473,-142.33616691473438,-142.17312394836333,-144.424048429549,-144.59082338061836,-144.15857334144565,-143.913291782308,-142.3125239963181,-140.94176567961287,-141.31418112966102,-144.71824022392875,-142.00246303413473,-143.3314711282793,-142.62655129696165,-145.024210960944,-144.1915134178823,-142.96921383001037,-143.1790204850969,-142.85222992472424,-143.82835000033037,-144.14335523941924,-143.02355653994147,-144.32294198237912,-142.68984830133465,-142.70069743981202,-143.57647816757495,-143.51231547476607,-143.47770420638093,-142.25278259659896,-142.12786579456917,-141.50193547069662,-143.43861250666987,-144.654571734868,-144.78510188240614,-144.79541456201207,-141.9682067078041,-142.9996291655766,-143.5562171634646,-142.99760246099606,-143.8386868152334,-143.4945636020328,-143.53506197632117,-145.28502428171194,-143.97665797018584,-142.50507136647087,-142.80183299984722,-142.5603756871234,-142.33793368539406,-143.5345678517524,-143.55636507361052,-144.69637618443852,-143.78619492987693,-142.24703738741832,-143.9898088379724,-142.17456347169116,-143.825358331009,-143.19259576154394,-142.5890920209995,-143.49448441397755,-144.60819437261588,-142.54548696649618,-144.44205517824946,-143.99524916209987,-143.16599161060068,-143.46983265848323,-143.577936509714,-143.34984874768298,-145.85973510453866,-143.1421511196272,-142.2032041234453,-142.76811181509262,-143.4878049160599,-143.288649507234,-141.91623257517054,-143.73249772893428,-142.00773681911232,-145.8200563721855,-143.32667802665563,-140.97384592227274,-142.90184821683647,-143.87867580248823,-143.28162361546262,-141.65400942117572,-142.07910418311815,-143.649150527075,-142.957078409664,-142.63408167326077,-141.80554484818649,-143.10528653178434,-143.1841518715374,-142.47272475324726,-141.8425173143915,-143.73260527877412,-141.9945906829182,-142.01390732078352,-143.11921307904956,-144.60562237369422,-143.0507246927315,-142.45725257268282,-143.62129502637046,-142.1306192822115,-143.94253869778493,-143.36936976776818,-143.8692047953092,-142.40350336386942,-144.5280624006641,-144.37537629095127,-143.72956983774432,-144.0311097066055,-143.34310708130724,-142.4859423307139,-143.812734447125,-143.31773150297914,-145.07318469109822,-42.31447495320691,-142.95142019783137,-142.1430463831797,-143.34555697771737,-143.46658344982907,-143.73521026683775,-142.95320788902572,-145.3538022512173,-142.51214817813474,-144.14068773282065,-143.08536241303486,-143.1056089935077,-141.0474615694968,-143.39573925308972,-142.51900021108872,-143.92754527714396,-142.92124422004164,-144.2056891708251,-143.1799074948223,-142.46486797616936,-143.93724987917676,-142.56618832606998,-141.07850451453172,-142.29186981542983,-144.90814402630153,-143.62323385946087,-143.11825901880007,-142.84013319120945,-143.1219562969817,-142.93908742588636,-143.31332584827575,-142.87932189270205,-141.65531440026956,-144.74745401023253,-143.20114921367272,-142.8377533281066,-142.43481743996222,-141.818717510161,-143.68909590965407,-144.69646585018822,-143.13420115244864,-143.29370207337763,-144.24064498175662,-146.33198349228755,-143.29281187845763,-141.04824149140762,-143.7547854275655,-143.11073525472497,-143.3829910614141,-143.992794155384,-144.22194874324455,-143.30005005835042,-144.11945682420995,-142.5796577117514,-144.1167320700365,-142.92249131749367,-142.37534167894765,-144.94600652701806,-143.23636439619096,-142.7917284214112,-143.99283594192843,-144.4887142519156,-144.19523749678456,-143.58275079553212,-143.84946980502147,-143.82186146805066,-143.67431834191183,-143.90261811453038,-144.74461745670195,-143.99139236232642,-143.03985390522018,-142.7244331445535,-142.98252603681334,-143.6199497399035,-143.1341028472448,-142.0428517309265]},\"selected\":{\"id\":\"1937\",\"type\":\"Selection\"},\"selection_policy\":{\"id\":\"1938\",\"type\":\"UnionRenderers\"}},\"id\":\"1824\",\"type\":\"ColumnDataSource\"},{\"attributes\":{\"below\":[{\"id\":\"1801\",\"type\":\"LinearAxis\"}],\"center\":[{\"id\":\"1805\",\"type\":\"Grid\"},{\"id\":\"1810\",\"type\":\"Grid\"}],\"left\":[{\"id\":\"1806\",\"type\":\"LinearAxis\"}],\"plot_height\":350,\"plot_width\":500,\"renderers\":[{\"id\":\"1827\",\"type\":\"GlyphRenderer\"},{\"id\":\"1829\",\"type\":\"Span\"}],\"title\":{\"id\":\"1791\",\"type\":\"Title\"},\"toolbar\":{\"id\":\"1817\",\"type\":\"Toolbar\"},\"toolbar_location\":\"above\",\"x_range\":{\"id\":\"1793\",\"type\":\"DataRange1d\"},\"x_scale\":{\"id\":\"1797\",\"type\":\"LinearScale\"},\"y_range\":{\"id\":\"1795\",\"type\":\"DataRange1d\"},\"y_scale\":{\"id\":\"1799\",\"type\":\"LinearScale\"}},\"id\":\"1790\",\"subtype\":\"Figure\",\"type\":\"Plot\"},{\"attributes\":{},\"id\":\"1936\",\"type\":\"BasicTickFormatter\"},{\"attributes\":{\"dimension\":1,\"ticker\":{\"id\":\"1847\",\"type\":\"BasicTicker\"}},\"id\":\"1850\",\"type\":\"Grid\"},{\"attributes\":{\"axis_label\":\"Episodes\",\"formatter\":{\"id\":\"1930\",\"type\":\"BasicTickFormatter\"},\"ticker\":{\"id\":\"1802\",\"type\":\"BasicTicker\"}},\"id\":\"1801\",\"type\":\"LinearAxis\"},{\"attributes\":{},\"id\":\"1937\",\"type\":\"Selection\"},{\"attributes\":{\"bottom\":{\"value\":0},\"fill_alpha\":{\"value\":0.5},\"fill_color\":{\"value\":\"#1f77b4\"},\"left\":{\"field\":\"left\"},\"line_alpha\":{\"value\":0.5},\"line_color\":{\"value\":\"white\"},\"right\":{\"field\":\"right\"},\"top\":{\"field\":\"top\"}},\"id\":\"1865\",\"type\":\"Quad\"},{\"attributes\":{},\"id\":\"1938\",\"type\":\"UnionRenderers\"},{\"attributes\":{},\"id\":\"1814\",\"type\":\"SaveTool\"},{\"attributes\":{},\"id\":\"1815\",\"type\":\"ResetTool\"},{\"attributes\":{\"callback\":null,\"data\":{\"left\":{\"__ndarray__\":\"+0XYm59KYsB2zlJhDQhiwPBWzSZ7xWHAa99H7OiCYcDlZ8KxVkBhwGDwPHfE/WDA2ni3PDK7YMBVATICoHhgwM+JrMcNNmDAlCROGvfmX8CJNUOl0mFfwH5GODCu3F7Ac1ctu4lXXsBoaCJGZdJdwF15F9FATV3AUooMXBzIXMBImwHn90JcwDys9nHTvVvAMr3r/K44W8AnzuCHirNawBzf1RJmLlrAEfDKnUGpWcAGAcAoHSRZwPsRtbP4nljA8CKqPtQZWMDmM5/Jr5RXwNpElFSLD1fA0FWJ32aKVsDEZn5qQgVWwLp3c/UdgFXAr4hogPn6VMCkmV0L1XVUwJmqUpaw8FPAjrtHIYxrU8CDzDysZ+ZSwHjdMTdDYVLAbe4mwh7cUcBi/xtN+lZRwFgQEdjV0VDATSEGY7FMUMCEZPbbGY9PwG6G4PHQhE7AWKjKB4h6TcBCyrQdP3BMwCzsnjP2ZUvAFg6JSa1bSsAAMHNfZFFJwOpRXXUbR0jA1HNHi9I8R8DAlTGhiTJGwA==\",\"dtype\":\"float64\",\"shape\":[50]},\"right\":{\"__ndarray__\":\"ds5SYQ0IYsDwVs0me8VhwGvfR+zogmHA5WfCsVZAYcBg8Dx3xP1gwNp4tzwyu2DAVQEyAqB4YMDPiazHDTZgwJQkThr35l/AiTVDpdJhX8B+RjgwrtxewHNXLbuJV17AaGgiRmXSXcBdeRfRQE1dwFKKDFwcyFzASJsB5/dCXMA8rPZx071bwDK96/yuOFvAJ87gh4qzWsAc39USZi5awBHwyp1BqVnABgHAKB0kWcD7EbWz+J5YwPAiqj7UGVjA5jOfya+UV8DaRJRUiw9XwNBVid9milbAxGZ+akIFVsC6d3P1HYBVwK+IaID5+lTApJldC9V1VMCZqlKWsPBTwI67RyGMa1PAg8w8rGfmUsB43TE3Q2FSwG3uJsIe3FHAYv8bTfpWUcBYEBHY1dFQwE0hBmOxTFDAhGT22xmPT8BuhuDx0IROwFioygeIek3AQsq0HT9wTMAs7J4z9mVLwBYOiUmtW0rAADBzX2RRScDqUV11G0dIwNRzR4vSPEfAwJUxoYkyRsCotxu3QChFwA==\",\"dtype\":\"float64\",\"shape\":[50]},\"top\":{\"__ndarray__\":\"RhqwnVU6sT+ptKgi8cPWP7xPoaeMTaw/AAAAAAAAAAAAAAAAAAAAAAAAAAAAAAAAAAAAAAAAAAAAAAAAAAAAAAAAAAAAAAAAAAAAAAAAAAAAAAAAAAAAAAAAAAAAAAAAAAAAAAAAAAAAAAAAAAAAAAAAAAAAAAAAAAAAAAAAAAAAAAAAAAAAAAAAAAAAAAAAAAAAAAAAAAAAAAAAAAAAAAAAAAAAAAAAAAAAAAAAAAAAAAAAAAAAAAAAAAAAAAAAAAAAAAAAAAAAAAAAAAAAAAAAAAAAAAAAAAAAAAAAAAAAAAAAAAAAAAAAAAAAAAAAAAAAAAAAAAAAAAAAAAAAAAAAAAAAAAAAAAAAAAAAAAAAAAAAAAAAAAAAAAAAAAAAAAAAAAAAAAAAAAAAAAAAAAAAAAAAAAAAAAAAAAAAAAAAAAAAAAAAAAAAAAAAAAAAAAAAAAAAAAAAAAAAAAAAAAAAAAAAAAAAAAAAAAAAAAAAAAAAAAAAAAAAAAAAAAAAAAAAAAAAAABNQsnYYbBjPw==\",\"dtype\":\"float64\",\"shape\":[50]}},\"selected\":{\"id\":\"1940\",\"type\":\"Selection\"},\"selection_policy\":{\"id\":\"1941\",\"type\":\"UnionRenderers\"}},\"id\":\"1864\",\"type\":\"ColumnDataSource\"},{\"attributes\":{\"bottom_units\":\"screen\",\"fill_alpha\":{\"value\":0.5},\"fill_color\":{\"value\":\"lightgrey\"},\"left_units\":\"screen\",\"level\":\"overlay\",\"line_alpha\":{\"value\":1.0},\"line_color\":{\"value\":\"black\"},\"line_dash\":[4,4],\"line_width\":{\"value\":2},\"render_mode\":\"css\",\"right_units\":\"screen\",\"top_units\":\"screen\"},\"id\":\"1939\",\"type\":\"BoxAnnotation\"},{\"attributes\":{\"active_drag\":\"auto\",\"active_inspect\":\"auto\",\"active_multi\":null,\"active_scroll\":\"auto\",\"active_tap\":\"auto\",\"tools\":[{\"id\":\"1851\",\"type\":\"PanTool\"},{\"id\":\"1852\",\"type\":\"WheelZoomTool\"},{\"id\":\"1853\",\"type\":\"BoxZoomTool\"},{\"id\":\"1854\",\"type\":\"SaveTool\"},{\"id\":\"1855\",\"type\":\"ResetTool\"},{\"id\":\"1856\",\"type\":\"HelpTool\"}]},\"id\":\"1857\",\"type\":\"Toolbar\"},{\"attributes\":{\"line_color\":{\"value\":\"red\"},\"location\":-142.79679522617496},\"id\":\"1829\",\"type\":\"Span\"},{\"attributes\":{\"overlay\":{\"id\":\"1939\",\"type\":\"BoxAnnotation\"}},\"id\":\"1813\",\"type\":\"BoxZoomTool\"},{\"attributes\":{},\"id\":\"1851\",\"type\":\"PanTool\"},{\"attributes\":{},\"id\":\"1940\",\"type\":\"Selection\"},{\"attributes\":{\"text\":\"Episode Return\"},\"id\":\"1791\",\"type\":\"Title\"},{\"attributes\":{},\"id\":\"1802\",\"type\":\"BasicTicker\"},{\"attributes\":{},\"id\":\"1807\",\"type\":\"BasicTicker\"},{\"attributes\":{},\"id\":\"1852\",\"type\":\"WheelZoomTool\"},{\"attributes\":{},\"id\":\"1941\",\"type\":\"UnionRenderers\"},{\"attributes\":{\"below\":[{\"id\":\"1841\",\"type\":\"LinearAxis\"}],\"center\":[{\"id\":\"1845\",\"type\":\"Grid\"},{\"id\":\"1850\",\"type\":\"Grid\"}],\"left\":[{\"id\":\"1846\",\"type\":\"LinearAxis\"}],\"plot_height\":350,\"plot_width\":500,\"renderers\":[{\"id\":\"1867\",\"type\":\"GlyphRenderer\"},{\"id\":\"1869\",\"type\":\"Span\"}],\"title\":{\"id\":\"1831\",\"type\":\"Title\"},\"toolbar\":{\"id\":\"1857\",\"type\":\"Toolbar\"},\"toolbar_location\":\"above\",\"x_range\":{\"id\":\"1833\",\"type\":\"DataRange1d\"},\"x_scale\":{\"id\":\"1837\",\"type\":\"LinearScale\"},\"y_range\":{\"id\":\"1835\",\"type\":\"DataRange1d\"},\"y_scale\":{\"id\":\"1839\",\"type\":\"LinearScale\"}},\"id\":\"1830\",\"subtype\":\"Figure\",\"type\":\"Plot\"},{\"attributes\":{\"axis_label\":\"Total Reward\",\"formatter\":{\"id\":\"1932\",\"type\":\"BasicTickFormatter\"},\"ticker\":{\"id\":\"1807\",\"type\":\"BasicTicker\"}},\"id\":\"1806\",\"type\":\"LinearAxis\"},{\"attributes\":{\"bottom_units\":\"screen\",\"fill_alpha\":{\"value\":0.5},\"fill_color\":{\"value\":\"lightgrey\"},\"left_units\":\"screen\",\"level\":\"overlay\",\"line_alpha\":{\"value\":1.0},\"line_color\":{\"value\":\"black\"},\"line_dash\":[4,4],\"line_width\":{\"value\":2},\"render_mode\":\"css\",\"right_units\":\"screen\",\"top_units\":\"screen\"},\"id\":\"1942\",\"type\":\"BoxAnnotation\"}],\"root_ids\":[\"1870\"]},\"title\":\"Bokeh Application\",\"version\":\"1.4.0\"}};\n",
       "  var render_items = [{\"docid\":\"f24d3035-b0fd-4f20-8da8-db48f0f8be5d\",\"roots\":{\"1870\":\"dd8f2a27-5d9e-4ec5-bda5-ab174f156760\"}}];\n",
       "  root.Bokeh.embed.embed_items_notebook(docs_json, render_items);\n",
       "\n",
       "  }\n",
       "  if (root.Bokeh !== undefined) {\n",
       "    embed_document(root);\n",
       "  } else {\n",
       "    var attempts = 0;\n",
       "    var timer = setInterval(function(root) {\n",
       "      if (root.Bokeh !== undefined) {\n",
       "        clearInterval(timer);\n",
       "        embed_document(root);\n",
       "      } else {\n",
       "        attempts++;\n",
       "        if (attempts > 100) {\n",
       "          clearInterval(timer);\n",
       "          console.log(\"Bokeh: ERROR: Unable to run BokehJS code because BokehJS library is missing\");\n",
       "        }\n",
       "      }\n",
       "    }, 10, root)\n",
       "  }\n",
       "})(window);"
      ],
      "application/vnd.bokehjs_exec.v0+json": ""
     },
     "metadata": {
      "application/vnd.bokehjs_exec.v0+json": {
       "id": "1870"
      }
     },
     "output_type": "display_data"
    }
   ],
   "source": [
    "NUM_EPISODES = 200\n",
    "\n",
    "episode_returns, episode_lengths = run(agent, env, NUM_EPISODES)\n",
    "\n",
    "plot_episode_total_rewards(episode_returns)"
   ]
  },
  {
   "cell_type": "markdown",
   "metadata": {},
   "source": [
    "> **Atenção**: se você obteve um pico de retorno com um valor positivo (i.e., *outlier*), execute novamente a simulação. Caso contrário, você deve ter obtido um retorno médio (vide linha vermelha) entre -34 e -33 para `NUM_EPISODES==200`."
   ]
  },
  {
   "cell_type": "markdown",
   "metadata": {},
   "source": [
    "---\n",
    "\n",
    "**<font color=\"red\">QUESTÕES:</font>**\n",
    "\n",
    "1. Qual a diferença entre o ambiente `MountainCar-v0` utilizado como exemplo na <a href=\"/lab#1.-Ambientes-no-OpenAI-Gym\" target=\"_self\">Seção 1</a> e o ambiente `MountainCarContinuous-v0` que você acabou de simular?\n",
    "2. Como você interpreta os gráficos acima `Episode Return` e `Episode Return (Histogram)` ? Como você explicaria essas variações ruidosas da recompensa total?\n",
    "3. Se você executar a simulação várias vezes, obterá resultados ligeiramente diferentes? Ao que se deve essa incerteza nos resultados?\n",
    "4. Você diria que o agente aleatório obteve uma boa performance? *Dica*: relacione os resultados obtidos com a especificação do ambiente `MountainCarContinuous-v0` (e.g., `env.spec`).\n",
    "5. Note que durante a simulação o `Episode Length` se manteve constante ao longo dos episódios. O que isso significa do ponto de vista da tarefa de RL?"
   ]
  },
  {
   "cell_type": "markdown",
   "metadata": {},
   "source": [
    "---\n",
    "**<font color=\"blue\">RESPOSTAS:</font>**"
   ]
  },
  {
   "cell_type": "markdown",
   "metadata": {},
   "source": [
    "**Questão 1:**\n",
    "\n",
    "A primeira diferença entre as versões discreta e contínua do MountainCar é com relação ao espaço de ações. Embora uma observação seja um par de número reais (e.g., `Box(2,)`) para ambos os ambientes, a representação de uma ação do agente é diferente dependendo da versão do ambiente. \n",
    "\n",
    "Para o `MountainCar-v0` as ações correspondeam aos números inteiros 0, 1 e 2 (pela documentação do problema disponível em http://gym.openai.com/envs/MountainCar-v0/ é possível inferir que esses 3 valores estão associadas à movimentação do carro para esquerda e direita, e um ação do tipo \"ponto-morto\").\n",
    "\n",
    "Já para o `MountainCarContinuous-v0` a ação é um único escalar limitado entre -1.0 e 1.0. Novamente, através da simulação ambiente e também da documentação é possível inferir que essa ação está relacionada com a movimentação do carro (valores negativos para esquerda e valores positivos para a direita)."
   ]
  },
  {
   "cell_type": "markdown",
   "metadata": {},
   "source": [
    "Você pode executar o código abaixo para relembrar os principais métodos da API do Gym para inspecionar as especificações dos espaços de observação e ação para cada ambiente:"
   ]
  },
  {
   "cell_type": "code",
   "execution_count": 25,
   "metadata": {},
   "outputs": [
    {
     "name": "stdout",
     "output_type": "stream",
     "text": [
      "=== MountainCar-v0 ===\n",
      ">> observation_space = Box(2,), low = [-1.2  -0.07], high = [0.6  0.07]\n",
      ">> action_space = Discrete(3), n = 3\n",
      "\n",
      "=== MountainCarContinuous-v0 ===\n",
      ">> observation_space = Box(2,), low = [-1.2  -0.07], high = [0.6  0.07]\n",
      ">> action_space = Box(1,), low = [-1.], high = [1.]\n",
      "\n"
     ]
    }
   ],
   "source": [
    "def print_env_info(env):\n",
    "\n",
    "    def get_space_info(space):\n",
    "        if isinstance(space, gym.spaces.Discrete):\n",
    "            return f\"{space}, n = {space.n}\"\n",
    "        elif isinstance(space, gym.spaces.Box):\n",
    "            return f\"{space}, low = {space.low}, high = {space.high}\"\n",
    "        else:\n",
    "            raise ValueError(f\"Space {space} is not a Box or a Dicrete space\")\n",
    "    \n",
    "    print(f\">> observation_space = {get_space_info(env.observation_space)}\")\n",
    "    print(f\">> action_space = {get_space_info(env.action_space)}\")\n",
    "\n",
    "env_discrete = gym.make(\"MountainCar-v0\")\n",
    "env_continuous = gym.make(\"MountainCarContinuous-v0\")\n",
    "\n",
    "print(\"=== MountainCar-v0 ===\")\n",
    "print_env_info(env_discrete)\n",
    "print()\n",
    "\n",
    "print(\"=== MountainCarContinuous-v0 ===\")\n",
    "print_env_info(env_continuous)\n",
    "print()"
   ]
  },
  {
   "cell_type": "markdown",
   "metadata": {},
   "source": [
    "Além disso, na parte 1 do notebook observamos que a recompensa em cada passo de interação para a versão discreta do MountainCar é -1 e o `reward_threshold==-110.0`. Isso sugere que a tarefa de controlar o carro até subir a montanha está especificado como um problema de caminho mais curto, isto é, para um agente maximizar seu retorno médio ele deve levar menos tempo até chegar ao estado terminal do ambiente (e.g., a posição da bandeira no alto da montanha).\n",
    "\n",
    "Por outro lado, na documentação do ambiente na página do OpenAI Gym para a versão contínua do MountainCar (http://gym.openai.com/envs/MountainCarContinuous-v0/) é mencionado que:\n",
    "> \"Here, the reward is greater if you spend less energy to reach the goal.\"\n",
    "\n",
    "Isso sugere que além do incentivo para se alcançar o alto da montanha, o agente deve ser cauteloso ao \"gastar\" ações, isto é, deve tentar sempre que possível escolher ações de baixo valor absoluto (lembre-se que uma ação no MountainCarContinuous é um escalar entre -1.0 e 1.0).\n",
    "\n",
    "Por fim, note que a documentação desses problemas do Gym não especifica em maiores detalhes a função de transição (i.e., como a ação de fato influencia no próximo estado) ou a função de recompensa (i.e, como o agente é penalizado ou recompensado por tomar uma ação). Isso é bastante comum em simuladores utilizados em aprendizado por reforço. Afinal, conforme discutido brevemente em aula, os algoritmos de aprendizado por reforço (model-free) não necessitam de acesso direto aos componentes do MDP, mas são capazes de aprender boas políticas apenas processando amostradas de observações e recompensas!"
   ]
  },
  {
   "cell_type": "markdown",
   "metadata": {},
   "source": [
    "**Questão 2:**\n",
    "\n",
    "Observamos no gráfico de `Episode Return` que não há nenhum padrão claro de melhoria ou degradação do desempenho do agente. Em outras palavras, o retorno de um episódio parece ser descrito por um ruído gaussiano em torno de um valor médio entre -33 e -34. Relembrando que esse resultado corresponde ao desempenho de um agente aleatório, é possível associar esse ruído simétrico à própria estocasticidade da política uniforme do agente."
   ]
  },
  {
   "cell_type": "markdown",
   "metadata": {},
   "source": [
    "**Questão 3:**\n",
    "\n",
    "A incerteza (ou nesse contexto, a variabilidade dos resultados) se deve ao fato que a trajetória (i.e., uma sequência de pares (estado, ação)) induzida pela política do agente é de fato uma variável aleatória, e consequentemente, sempre que amostrada pode gerar resultados diferentes. Lembre-se também que a política que representa a tomada de decisão do agente é por si só estocástica. Nesse sentido, o agente mesmo com uma política pré-definida pode tomar ações diferentes em um mesmo estado revisitado em diferentes momentos."
   ]
  },
  {
   "cell_type": "markdown",
   "metadata": {},
   "source": [
    "**Questão 4:**"
   ]
  },
  {
   "cell_type": "code",
   "execution_count": 26,
   "metadata": {},
   "outputs": [
    {
     "name": "stdout",
     "output_type": "stream",
     "text": [
      "=== MountainCar-v0 ===\n",
      ">> reward_threshold = -110.0, max_episode_steps = 200\n",
      "\n",
      "=== MountainCarContinuous-v0 ===\n",
      ">> reward_threshold = 90.0, max_episode_steps = 999\n",
      "\n"
     ]
    }
   ],
   "source": [
    "print(\"=== MountainCar-v0 ===\")\n",
    "print(f\">> reward_threshold = {env_discrete.spec.reward_threshold}, max_episode_steps = {env_discrete.spec.max_episode_steps}\")\n",
    "print()\n",
    "\n",
    "print(\"=== MountainCarContinuous-v0 ===\")\n",
    "print(f\">> reward_threshold = {env_continuous.spec.reward_threshold}, max_episode_steps = {env_continuous.spec.max_episode_steps}\")\n",
    "print()"
   ]
  },
  {
   "cell_type": "markdown",
   "metadata": {},
   "source": [
    "Comparando os resultados obtidos com a especificação de retorno mínimo (i.e., `env.spec.reward_threshold`) fica claro que o agente aleatório não teve um bom desempenho. Isso era de certa forma uma conclusão esperado, visto o agente aleatório não aprende com seus erros e acertos (i.e., note que o método `learn` da classe `RandomAgent` se quer foi implementado!)"
   ]
  },
  {
   "cell_type": "markdown",
   "metadata": {},
   "source": [
    "**Questão 5:**\n",
    "\n",
    "O fato do `episode_length` não se alterar ao longo dos episódios é somente mais um indício de que o agente não está melhorando sua política. Essa é uma métrica importante para se monitorar ao longo do treinamento de um agente de RL, e é frequentemente usado para *debuggar* erros nos algoritmos."
   ]
  }
 ],
 "metadata": {
  "kernelspec": {
   "display_name": "Python 3",
   "language": "python",
   "name": "python3"
  },
  "language_info": {
   "codemirror_mode": {
    "name": "ipython",
    "version": 3
   },
   "file_extension": ".py",
   "mimetype": "text/x-python",
   "name": "python",
   "nbconvert_exporter": "python",
   "pygments_lexer": "ipython3",
   "version": "3.6.10"
  }
 },
 "nbformat": 4,
 "nbformat_minor": 4
}
